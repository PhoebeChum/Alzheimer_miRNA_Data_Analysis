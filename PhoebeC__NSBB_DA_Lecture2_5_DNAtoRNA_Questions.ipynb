{
 "cells": [
  {
   "cell_type": "markdown",
   "metadata": {
    "id": "WoOnDpqNMsLq"
   },
   "source": [
    "# Practice Time"
   ]
  },
  {
   "cell_type": "markdown",
   "metadata": {
    "id": "KbLtvFLFMsLs"
   },
   "source": [
    "#### Pythagorean Theorem\n",
    "Write a function that returns the hypotenouse `c` given side `a` and `b`.\n",
    "\n",
    "`4 ** 2` returns 16  \n",
    "`3 ** 3` returns 27"
   ]
  },
  {
   "cell_type": "code",
   "execution_count": 9,
   "metadata": {
    "id": "Ov3RQ48kUULR"
   },
   "outputs": [],
   "source": [
    "import math \n",
    "def pyth(a, b):\n",
    "    c = math.sqrt((a**2) + (b**2))\n",
    "    return c\n",
    "    "
   ]
  },
  {
   "cell_type": "code",
   "execution_count": 10,
   "metadata": {
    "colab": {
     "base_uri": "https://localhost:8080/"
    },
    "id": "nReoiuN0T5s_",
    "outputId": "d870c864-9b36-4ffb-f8cd-ea527e696847"
   },
   "outputs": [
    {
     "data": {
      "text/plain": [
       "5.0"
      ]
     },
     "execution_count": 10,
     "metadata": {},
     "output_type": "execute_result"
    }
   ],
   "source": [
    "pyth(3, 4)"
   ]
  },
  {
   "cell_type": "markdown",
   "metadata": {
    "id": "Rx3-eUbGMsME"
   },
   "source": [
    "#### Modulo Operator\n",
    "Write a function that returns True if the integer is even, and False if the interger is Odd. Hint: use the modulo operator `%` to return the remainder.\n",
    "\n",
    "`6 / 2` returns `3`; division  \n",
    "`6 % 2` returns `0`; meaning that the remainder is 0"
   ]
  },
  {
   "cell_type": "code",
   "execution_count": null,
   "metadata": {
    "id": "MW1ejttKUUuL"
   },
   "outputs": [],
   "source": []
  },
  {
   "cell_type": "markdown",
   "metadata": {
    "id": "gJjxYsvSMsMU"
   },
   "source": [
    "#### Baby's First Bioinformatics Step\n",
    "\n",
    "Write functions for each of the following tasks:\n",
    "\n",
    "    1. Count all different nucleotides (A, T, G, C) and store them into variables.\n",
    "    2. Calculate GC% of the whole strand\n",
    "    3. Convert DNA_string into RNA_string\n",
    "    4. Convert the resulting RNA into an amino acid sequence"
   ]
  },
  {
   "cell_type": "code",
   "execution_count": 11,
   "metadata": {
    "id": "rQId6pLAMsMV"
   },
   "outputs": [],
   "source": [
    "DNA_string = 'TGGAAGAGTTTAAGGCCAAGAATAGCAAATCTATCCACCACGATGATGGCACTTATTTCCTTAGTGCTTGTG'"
   ]
  },
  {
   "cell_type": "code",
   "execution_count": 12,
   "metadata": {
    "id": "xGxRukSRMsMd"
   },
   "outputs": [],
   "source": [
    "# Helper dictionary to accomplish #3\n",
    "\n",
    "AA_dct = {\n",
    "    # Phenylalanine\n",
    "    'UUC':'F', 'UUU':'F',\n",
    "    # Leucine\n",
    "    'UUA':'L', 'UUG':'L', 'CUU':'L', 'CUC':'L','CUA':'L','CUG':'L', \n",
    "    # Isoleucine\n",
    "    'AUU':'I', 'AUC':'I', 'AUA':'I', \n",
    "    # Methionine\n",
    "    'AUG':'M', \n",
    "    # Valine\n",
    "    'GUU':'V', 'GUC':'V', 'GUA':'V', 'GUG':'V', \n",
    "    # Serine\n",
    "    'UCU':'S', 'UCC':'S', 'UCA':'S', 'UCG':'S', 'AGU':'S', 'AGC':'S', \n",
    "    # Proline\n",
    "    'CCU':'P', 'CCC':'P', 'CCA':'P', 'CCG':'P', \n",
    "    # Threonine\n",
    "    'ACU':'T', 'ACC':'T', 'ACA':'T', 'ACG':'T',\n",
    "    # Alanine\n",
    "    'GCU':'A', 'GCC':'A', 'GCA':'A', 'GCG':'A', \n",
    "    # Tyrosine\n",
    "    'UAU':'Y', 'UAC':'Y', \n",
    "    # Histidine\n",
    "    'CAU':'H', 'CAC':'H',\n",
    "    # Glutamine\n",
    "    'CAA':'Q', 'CAG':'Q', \n",
    "    # Asparagine\n",
    "    'AAU':'N', 'AAC':'N', \n",
    "    # Lysine\n",
    "    'AAA':'K', 'AAG':'K',\n",
    "    # Aspartic Acid\n",
    "    'GAU':'D', 'GAC':'D', \n",
    "    # Glutamic Acid\n",
    "    'GAA':'E', 'GAG':'E',\n",
    "    # Cystine\n",
    "    'UGU':'C', 'UGC':'C',\n",
    "    # Tryptophan\n",
    "    'UGG':'W', \n",
    "    # Arginine\n",
    "    'CGU':'R', 'CGC':'R', 'CGA':'R', 'CGG':'R', 'AGA':'R', 'AGG':'R', \n",
    "    # Glycine\n",
    "    'GGU':'G',  'GGC':'G', 'GGA':'G', 'GGG':'G', \n",
    "    # Stop codon\n",
    "    'UAA':'Stop', 'UGA':'Stop', 'UAG':'Stop'}"
   ]
  },
  {
   "cell_type": "markdown",
   "metadata": {
    "id": "7moBo9_gMsMk"
   },
   "source": [
    "#### Count all 4 Nucleotides"
   ]
  },
  {
   "cell_type": "code",
   "execution_count": 13,
   "metadata": {
    "colab": {
     "base_uri": "https://localhost:8080/"
    },
    "id": "rotkF100UY3q",
    "outputId": "67e17c16-d5ab-4a80-d554-5714bb6a400d"
   },
   "outputs": [
    {
     "name": "stdout",
     "output_type": "stream",
     "text": [
      "21\n"
     ]
    }
   ],
   "source": [
    "A = DNA_string.count ('A')\n",
    "print(A)"
   ]
  },
  {
   "cell_type": "code",
   "execution_count": 14,
   "metadata": {
    "colab": {
     "base_uri": "https://localhost:8080/"
    },
    "id": "JQHGO-a9WFko",
    "outputId": "017d935a-db53-408e-a337-598cf3bd64fe"
   },
   "outputs": [
    {
     "name": "stdout",
     "output_type": "stream",
     "text": [
      "21\n"
     ]
    }
   ],
   "source": [
    "T = DNA_string.count ('T')\n",
    "print(T)"
   ]
  },
  {
   "cell_type": "code",
   "execution_count": 15,
   "metadata": {
    "colab": {
     "base_uri": "https://localhost:8080/"
    },
    "id": "Vy2pZhICWHjE",
    "outputId": "e73dd976-9306-47d8-fee0-a95a5381f2bb"
   },
   "outputs": [
    {
     "name": "stdout",
     "output_type": "stream",
     "text": [
      "16\n"
     ]
    }
   ],
   "source": [
    "G = DNA_string.count ('G')\n",
    "print(G)"
   ]
  },
  {
   "cell_type": "code",
   "execution_count": 16,
   "metadata": {
    "colab": {
     "base_uri": "https://localhost:8080/"
    },
    "id": "whwIiUdIWJmy",
    "outputId": "4ea40219-6ab4-4ebe-b950-d662ceffc24a"
   },
   "outputs": [
    {
     "name": "stdout",
     "output_type": "stream",
     "text": [
      "14\n"
     ]
    }
   ],
   "source": [
    "C = DNA_string.count ('C')\n",
    "print(C)"
   ]
  },
  {
   "cell_type": "markdown",
   "metadata": {
    "id": "zU9m7_xfMsM7"
   },
   "source": [
    "#### Calculate GC %"
   ]
  },
  {
   "cell_type": "code",
   "execution_count": 17,
   "metadata": {
    "colab": {
     "base_uri": "https://localhost:8080/"
    },
    "id": "fL5KBdpxMsM8",
    "outputId": "7cd12339-1347-4758-dc38-7f7e28244489"
   },
   "outputs": [
    {
     "data": {
      "text/plain": [
       "41.66666666666667"
      ]
     },
     "execution_count": 17,
     "metadata": {},
     "output_type": "execute_result"
    }
   ],
   "source": [
    "# Count(G + C)/Count(A + T + G + C) * 100%\n",
    "(G+C)/(A+T+G+C)*100"
   ]
  },
  {
   "cell_type": "markdown",
   "metadata": {
    "id": "oxBuNFXrMsNH"
   },
   "source": [
    "#### Convert DNA to RNA"
   ]
  },
  {
   "cell_type": "code",
   "execution_count": 18,
   "metadata": {
    "colab": {
     "base_uri": "https://localhost:8080/"
    },
    "id": "YKtqGjUyMsNS",
    "outputId": "2297f3c2-129a-41aa-d032-cf0285dd84a6"
   },
   "outputs": [
    {
     "name": "stdout",
     "output_type": "stream",
     "text": [
      "DNA:  TGGAAGAGTTTAAGGCCAAGAATAGCAAATCTATCCACCACGATGATGGCACTTATTTCCTTAGTGCTTGTG\n",
      "RNA:  UGGAAGAGUUUAAGGCCAAGAAUAGCAAAUCUAUCCACCACGAUGAUGGCACUUAUUUCCUUAGUGCUUGUG\n"
     ]
    }
   ],
   "source": [
    "print (\"DNA: \", DNA_string)\n",
    "\n",
    "rna = \"\"\n",
    "\n",
    "# Generate the RNA string\n",
    "for i in DNA_string:\n",
    "    # Replace all occurrences of T with U\n",
    "    if i == \"T\":\n",
    "        rna += \"U\"\n",
    "    else:\n",
    "        rna += i\n",
    "\n",
    "# Print the RNA string\n",
    "print (\"RNA: \", rna)\n"
   ]
  },
  {
   "cell_type": "markdown",
   "metadata": {
    "id": "sCkgxS-QMsNW"
   },
   "source": [
    "#### Convert RNA to AA sequence"
   ]
  },
  {
   "cell_type": "code",
   "execution_count": 19,
   "metadata": {
    "colab": {
     "base_uri": "https://localhost:8080/"
    },
    "id": "UnRj-0Gtfn8f",
    "outputId": "571b3bc8-f617-4f11-f486-2e4b6bced6da"
   },
   "outputs": [
    {
     "name": "stdout",
     "output_type": "stream",
     "text": [
      "RNA String:  UGGAAGAGUUUAAGGCCAAGAAUAGCAAAUCUAUCCACCACGAUGAUGGCACUUAUUUCCUUAGUGCUUGUG\n",
      "Protein String:  WKSLRPRIANLSTTMMALISLVL\n"
     ]
    }
   ],
   "source": [
    "print (\"RNA String: \", rna)\n",
    "\n",
    "# RNA codon table\n",
    "rna_codon = {\"UUU\" : \"F\", \"CUU\" : \"L\", \"AUU\" : \"I\", \"GUU\" : \"V\",\n",
    "           \"UUC\" : \"F\", \"CUC\" : \"L\", \"AUC\" : \"I\", \"GUC\" : \"V\",\n",
    "           \"UUA\" : \"L\", \"CUA\" : \"L\", \"AUA\" : \"I\", \"GUA\" : \"V\",\n",
    "           \"UUG\" : \"L\", \"CUG\" : \"L\", \"AUG\" : \"M\", \"GUG\" : \"V\",\n",
    "           \"UCU\" : \"S\", \"CCU\" : \"P\", \"ACU\" : \"T\", \"GCU\" : \"A\",\n",
    "           \"UCC\" : \"S\", \"CCC\" : \"P\", \"ACC\" : \"T\", \"GCC\" : \"A\",\n",
    "           \"UCA\" : \"S\", \"CCA\" : \"P\", \"ACA\" : \"T\", \"GCA\" : \"A\",\n",
    "           \"UCG\" : \"S\", \"CCG\" : \"P\", \"ACG\" : \"T\", \"GCG\" : \"A\",\n",
    "           \"UAU\" : \"Y\", \"CAU\" : \"H\", \"AAU\" : \"N\", \"GAU\" : \"D\",\n",
    "           \"UAC\" : \"Y\", \"CAC\" : \"H\", \"AAC\" : \"N\", \"GAC\" : \"D\",\n",
    "           \"UAA\" : \"STOP\", \"CAA\" : \"Q\", \"AAA\" : \"K\", \"GAA\" : \"E\",\n",
    "           \"UAG\" : \"STOP\", \"CAG\" : \"Q\", \"AAG\" : \"K\", \"GAG\" : \"E\",\n",
    "           \"UGU\" : \"C\", \"CGU\" : \"R\", \"AGU\" : \"S\", \"GGU\" : \"G\",\n",
    "           \"UGC\" : \"C\", \"CGC\" : \"R\", \"AGC\" : \"S\", \"GGC\" : \"G\",\n",
    "           \"UGA\" : \"STOP\", \"CGA\" : \"R\", \"AGA\" : \"R\", \"GGA\" : \"G\",\n",
    "           \"UGG\" : \"W\", \"CGG\" : \"R\", \"AGG\" : \"R\", \"GGG\" : \"G\" \n",
    "           }\n",
    "\n",
    "protein_string = \"\"\n",
    "\n",
    "# Generate protein string\n",
    "for i in range(0, len(rna)-(3+len(rna)%3), 3):\n",
    "    if rna_codon[rna[i:i+3]] == \"STOP\" :\n",
    "        break\n",
    "    protein_string += rna_codon[rna[i:i+3]]\n",
    "\n",
    "# Print the protein string\n",
    "print (\"Protein String: \", protein_string)\n"
   ]
  },
  {
   "cell_type": "markdown",
   "metadata": {
    "id": "9-px1bVhMsNd"
   },
   "source": [
    "#### Baby's First Application\n",
    "\n",
    "Load `codon.csv` using pandas. See https://pandas.pydata.org/pandas-docs/stable/reference/api/pandas.read_csv.html.\n",
    "\n",
    "Do all the steps above to the single DNA strand in `codon.csv` and organize your results in a digestible way (as if you're going to show your PI your results!)"
   ]
  },
  {
   "cell_type": "markdown",
   "metadata": {},
   "source": [
    "**1) Load codon.csv and clean it by removing unnecessary column(s) and changing the column header name to DNA.**"
   ]
  },
  {
   "cell_type": "code",
   "execution_count": 250,
   "metadata": {
    "id": "t7N0QNSIVPae"
   },
   "outputs": [],
   "source": [
    "import pandas as pd"
   ]
  },
  {
   "cell_type": "code",
   "execution_count": 34,
   "metadata": {
    "colab": {
     "base_uri": "https://localhost:8080/",
     "height": 902
    },
    "id": "D8QVE8zsRUfL",
    "outputId": "1ddfc830-0373-4387-c970-e6917438e753"
   },
   "outputs": [],
   "source": [
    "# Load codon.csv \n",
    "df = pd.read_csv ('codon.csv') "
   ]
  },
  {
   "cell_type": "code",
   "execution_count": 35,
   "metadata": {},
   "outputs": [
    {
     "data": {
      "text/html": [
       "<div>\n",
       "<style scoped>\n",
       "    .dataframe tbody tr th:only-of-type {\n",
       "        vertical-align: middle;\n",
       "    }\n",
       "\n",
       "    .dataframe tbody tr th {\n",
       "        vertical-align: top;\n",
       "    }\n",
       "\n",
       "    .dataframe thead th {\n",
       "        text-align: right;\n",
       "    }\n",
       "</style>\n",
       "<table border=\"1\" class=\"dataframe\">\n",
       "  <thead>\n",
       "    <tr style=\"text-align: right;\">\n",
       "      <th></th>\n",
       "      <th>Unnamed: 0</th>\n",
       "      <th>0</th>\n",
       "    </tr>\n",
       "  </thead>\n",
       "  <tbody>\n",
       "    <tr>\n",
       "      <th>0</th>\n",
       "      <td>0</td>\n",
       "      <td>TGG</td>\n",
       "    </tr>\n",
       "    <tr>\n",
       "      <th>1</th>\n",
       "      <td>1</td>\n",
       "      <td>AAG</td>\n",
       "    </tr>\n",
       "    <tr>\n",
       "      <th>2</th>\n",
       "      <td>2</td>\n",
       "      <td>AGT</td>\n",
       "    </tr>\n",
       "    <tr>\n",
       "      <th>3</th>\n",
       "      <td>3</td>\n",
       "      <td>TTA</td>\n",
       "    </tr>\n",
       "    <tr>\n",
       "      <th>4</th>\n",
       "      <td>4</td>\n",
       "      <td>AGG</td>\n",
       "    </tr>\n",
       "    <tr>\n",
       "      <th>...</th>\n",
       "      <td>...</td>\n",
       "      <td>...</td>\n",
       "    </tr>\n",
       "    <tr>\n",
       "      <th>15227</th>\n",
       "      <td>15227</td>\n",
       "      <td>TAA</td>\n",
       "    </tr>\n",
       "    <tr>\n",
       "      <th>15228</th>\n",
       "      <td>15228</td>\n",
       "      <td>TAT</td>\n",
       "    </tr>\n",
       "    <tr>\n",
       "      <th>15229</th>\n",
       "      <td>15229</td>\n",
       "      <td>CAC</td>\n",
       "    </tr>\n",
       "    <tr>\n",
       "      <th>15230</th>\n",
       "      <td>15230</td>\n",
       "      <td>AAA</td>\n",
       "    </tr>\n",
       "    <tr>\n",
       "      <th>15231</th>\n",
       "      <td>15231</td>\n",
       "      <td>CTT</td>\n",
       "    </tr>\n",
       "  </tbody>\n",
       "</table>\n",
       "<p>15232 rows × 2 columns</p>\n",
       "</div>"
      ],
      "text/plain": [
       "       Unnamed: 0    0\n",
       "0               0  TGG\n",
       "1               1  AAG\n",
       "2               2  AGT\n",
       "3               3  TTA\n",
       "4               4  AGG\n",
       "...           ...  ...\n",
       "15227       15227  TAA\n",
       "15228       15228  TAT\n",
       "15229       15229  CAC\n",
       "15230       15230  AAA\n",
       "15231       15231  CTT\n",
       "\n",
       "[15232 rows x 2 columns]"
      ]
     },
     "execution_count": 35,
     "metadata": {},
     "output_type": "execute_result"
    }
   ],
   "source": [
    "df"
   ]
  },
  {
   "cell_type": "code",
   "execution_count": null,
   "metadata": {},
   "outputs": [],
   "source": [
    "df.columns"
   ]
  },
  {
   "cell_type": "code",
   "execution_count": 37,
   "metadata": {},
   "outputs": [],
   "source": [
    "# clean it by removing unnecessary column(s)\n",
    "del df['Unnamed: 0'] "
   ]
  },
  {
   "cell_type": "code",
   "execution_count": 38,
   "metadata": {},
   "outputs": [],
   "source": [
    "# changing the column header name to DNA\n",
    "df.columns = ['DNA'] "
   ]
  },
  {
   "cell_type": "markdown",
   "metadata": {},
   "source": [
    "**2) Create three new columns: RNA, AA, and weight filled with appropriate data.**"
   ]
  },
  {
   "cell_type": "code",
   "execution_count": 39,
   "metadata": {},
   "outputs": [],
   "source": [
    "# Create a RNA column filled with appropriate data \n",
    "RNAv=df['DNA'] "
   ]
  },
  {
   "cell_type": "code",
   "execution_count": 40,
   "metadata": {},
   "outputs": [],
   "source": [
    "df['RNA']= RNAv.replace('T','U',regex=True)"
   ]
  },
  {
   "cell_type": "code",
   "execution_count": 41,
   "metadata": {},
   "outputs": [],
   "source": [
    "# Create an AA column filled with appropriate data \n",
    "AAv=df['RNA']"
   ]
  },
  {
   "cell_type": "code",
   "execution_count": 131,
   "metadata": {},
   "outputs": [],
   "source": [
    "AA_dct={\n",
    "    # Phenylalanine\n",
    "    'UUC':'F', 'UUU':'F',\n",
    "    # Leucine\n",
    "    'UUA':'L', 'UUG':'L', 'CUU':'L', 'CUC':'L','CUA':'L','CUG':'L', \n",
    "    # Isoleucine\n",
    "    'AUU':'I', 'AUC':'I', 'AUA':'I', \n",
    "    # Methionine\n",
    "    'AUG':'M', \n",
    "    # Valine\n",
    "    'GUU':'V', 'GUC':'V', 'GUA':'V', 'GUG':'V', \n",
    "    # Serine\n",
    "    'UCU':'S', 'UCC':'S', 'UCA':'S', 'UCG':'S', 'AGU':'S', 'AGC':'S', \n",
    "    # Proline\n",
    "    'CCU':'P', 'CCC':'P', 'CCA':'P', 'CCG':'P', \n",
    "    # Threonine\n",
    "    'ACU':'T', 'ACC':'T', 'ACA':'T', 'ACG':'T',\n",
    "    # Alanine\n",
    "    'GCU':'A', 'GCC':'A', 'GCA':'A', 'GCG':'A', \n",
    "    # Tyrosine\n",
    "    'UAU':'Y', 'UAC':'Y', \n",
    "    # Histidine\n",
    "    'CAU':'H', 'CAC':'H',\n",
    "    # Glutamine\n",
    "    'CAA':'Q', 'CAG':'Q', \n",
    "    # Asparagine\n",
    "    'AAU':'N', 'AAC':'N', \n",
    "    # Lysine\n",
    "    'AAA':'K', 'AAG':'K',\n",
    "    # Aspartic Acid\n",
    "    'GAU':'D', 'GAC':'D', \n",
    "    # Glutamic Acid\n",
    "    'GAA':'E', 'GAG':'E',\n",
    "    # Cystine\n",
    "    'UGU':'C', 'UGC':'C',\n",
    "    # Tryptophan\n",
    "    'UGG':'W', \n",
    "    # Arginine\n",
    "    'CGU':'R', 'CGC':'R', 'CGA':'R', 'CGG':'R', 'AGA':'R', 'AGG':'R', \n",
    "    # Glycine\n",
    "    'GGU':'G',  'GGC':'G', 'GGA':'G', 'GGG':'G', \n",
    "    # Stop codon\n",
    "    'UAA':'-', 'UGA':'-', 'UAG':'-'}"
   ]
  },
  {
   "cell_type": "code",
   "execution_count": 132,
   "metadata": {},
   "outputs": [],
   "source": [
    "df['AA']=AAv.replace(AA_dct ,regex=True)"
   ]
  },
  {
   "cell_type": "code",
   "execution_count": 215,
   "metadata": {
    "id": "EvVO5Oh0RGIm"
   },
   "outputs": [],
   "source": [
    "# Create a weight column filled with appropriate data \n",
    "# Helper dictionary for step 2\n",
    "\n",
    "weights = {'A': 71.04, 'C': 103.01, 'D': 115.03, 'E': 129.04, 'F': 147.07,\n",
    "           'G': 57.02, 'H': 137.06, 'I': 113.08, 'K': 128.09, 'L': 113.08,\n",
    "           'M': 131.04, 'N': 114.04, 'P': 97.05, 'Q': 128.06, 'R': 156.10,\n",
    "           'S': 87.03, 'T': 101.05, 'V': 99.07, 'W': 186.08, 'Y': 163.06, '-': 0 }\n"
   ]
  },
  {
   "cell_type": "code",
   "execution_count": 134,
   "metadata": {},
   "outputs": [],
   "source": [
    "Weightv=df['AA']\n",
    "df['Weight']=Weightv.replace(weights,regex=True)"
   ]
  },
  {
   "cell_type": "code",
   "execution_count": 135,
   "metadata": {},
   "outputs": [
    {
     "data": {
      "text/plain": [
       "0        186.08\n",
       "1        128.09\n",
       "2         87.03\n",
       "3        113.08\n",
       "4        156.10\n",
       "          ...  \n",
       "15227      0.00\n",
       "15228    163.06\n",
       "15229    137.06\n",
       "15230    128.09\n",
       "15231    113.08\n",
       "Name: Weight, Length: 15232, dtype: float64"
      ]
     },
     "execution_count": 135,
     "metadata": {},
     "output_type": "execute_result"
    }
   ],
   "source": [
    "df['Weight']"
   ]
  },
  {
   "cell_type": "code",
   "execution_count": 136,
   "metadata": {},
   "outputs": [
    {
     "data": {
      "text/html": [
       "<div>\n",
       "<style scoped>\n",
       "    .dataframe tbody tr th:only-of-type {\n",
       "        vertical-align: middle;\n",
       "    }\n",
       "\n",
       "    .dataframe tbody tr th {\n",
       "        vertical-align: top;\n",
       "    }\n",
       "\n",
       "    .dataframe thead th {\n",
       "        text-align: right;\n",
       "    }\n",
       "</style>\n",
       "<table border=\"1\" class=\"dataframe\">\n",
       "  <thead>\n",
       "    <tr style=\"text-align: right;\">\n",
       "      <th></th>\n",
       "      <th>DNA</th>\n",
       "      <th>RNA</th>\n",
       "      <th>AA</th>\n",
       "      <th>Weight</th>\n",
       "    </tr>\n",
       "  </thead>\n",
       "  <tbody>\n",
       "    <tr>\n",
       "      <th>0</th>\n",
       "      <td>TGG</td>\n",
       "      <td>UGG</td>\n",
       "      <td>W</td>\n",
       "      <td>186.08</td>\n",
       "    </tr>\n",
       "    <tr>\n",
       "      <th>1</th>\n",
       "      <td>AAG</td>\n",
       "      <td>AAG</td>\n",
       "      <td>K</td>\n",
       "      <td>128.09</td>\n",
       "    </tr>\n",
       "    <tr>\n",
       "      <th>2</th>\n",
       "      <td>AGT</td>\n",
       "      <td>AGU</td>\n",
       "      <td>S</td>\n",
       "      <td>87.03</td>\n",
       "    </tr>\n",
       "    <tr>\n",
       "      <th>3</th>\n",
       "      <td>TTA</td>\n",
       "      <td>UUA</td>\n",
       "      <td>L</td>\n",
       "      <td>113.08</td>\n",
       "    </tr>\n",
       "    <tr>\n",
       "      <th>4</th>\n",
       "      <td>AGG</td>\n",
       "      <td>AGG</td>\n",
       "      <td>R</td>\n",
       "      <td>156.10</td>\n",
       "    </tr>\n",
       "    <tr>\n",
       "      <th>...</th>\n",
       "      <td>...</td>\n",
       "      <td>...</td>\n",
       "      <td>...</td>\n",
       "      <td>...</td>\n",
       "    </tr>\n",
       "    <tr>\n",
       "      <th>15227</th>\n",
       "      <td>TAA</td>\n",
       "      <td>UAA</td>\n",
       "      <td>-</td>\n",
       "      <td>0.00</td>\n",
       "    </tr>\n",
       "    <tr>\n",
       "      <th>15228</th>\n",
       "      <td>TAT</td>\n",
       "      <td>UAU</td>\n",
       "      <td>Y</td>\n",
       "      <td>163.06</td>\n",
       "    </tr>\n",
       "    <tr>\n",
       "      <th>15229</th>\n",
       "      <td>CAC</td>\n",
       "      <td>CAC</td>\n",
       "      <td>H</td>\n",
       "      <td>137.06</td>\n",
       "    </tr>\n",
       "    <tr>\n",
       "      <th>15230</th>\n",
       "      <td>AAA</td>\n",
       "      <td>AAA</td>\n",
       "      <td>K</td>\n",
       "      <td>128.09</td>\n",
       "    </tr>\n",
       "    <tr>\n",
       "      <th>15231</th>\n",
       "      <td>CTT</td>\n",
       "      <td>CUU</td>\n",
       "      <td>L</td>\n",
       "      <td>113.08</td>\n",
       "    </tr>\n",
       "  </tbody>\n",
       "</table>\n",
       "<p>15232 rows × 4 columns</p>\n",
       "</div>"
      ],
      "text/plain": [
       "       DNA  RNA AA  Weight\n",
       "0      TGG  UGG  W  186.08\n",
       "1      AAG  AAG  K  128.09\n",
       "2      AGT  AGU  S   87.03\n",
       "3      TTA  UUA  L  113.08\n",
       "4      AGG  AGG  R  156.10\n",
       "...    ...  ... ..     ...\n",
       "15227  TAA  UAA  -    0.00\n",
       "15228  TAT  UAU  Y  163.06\n",
       "15229  CAC  CAC  H  137.06\n",
       "15230  AAA  AAA  K  128.09\n",
       "15231  CTT  CUU  L  113.08\n",
       "\n",
       "[15232 rows x 4 columns]"
      ]
     },
     "execution_count": 136,
     "metadata": {},
     "output_type": "execute_result"
    }
   ],
   "source": [
    "df "
   ]
  },
  {
   "cell_type": "markdown",
   "metadata": {},
   "source": [
    "**3) Create a barplot of the 3 highest frequency amino acids.**"
   ]
  },
  {
   "cell_type": "code",
   "execution_count": 137,
   "metadata": {},
   "outputs": [],
   "source": [
    "df_AA=df['AA'] "
   ]
  },
  {
   "cell_type": "code",
   "execution_count": 138,
   "metadata": {
    "scrolled": true
   },
   "outputs": [
    {
     "data": {
      "text/plain": [
       "[('L', 1764),\n",
       " ('S', 1413),\n",
       " ('G', 952),\n",
       " ('P', 926),\n",
       " ('V', 872),\n",
       " ('F', 863),\n",
       " ('R', 821),\n",
       " ('A', 783),\n",
       " ('-', 781),\n",
       " ('K', 759),\n",
       " ('I', 702),\n",
       " ('T', 683),\n",
       " ('E', 596),\n",
       " ('Q', 569),\n",
       " ('C', 544),\n",
       " ('H', 467),\n",
       " ('N', 457),\n",
       " ('Y', 364),\n",
       " ('D', 355),\n",
       " ('W', 324),\n",
       " ('M', 237)]"
      ]
     },
     "execution_count": 138,
     "metadata": {},
     "output_type": "execute_result"
    }
   ],
   "source": [
    "from collections import Counter\n",
    "x = Counter(df_AA)\n",
    "x.most_common()"
   ]
  },
  {
   "cell_type": "code",
   "execution_count": 139,
   "metadata": {},
   "outputs": [],
   "source": [
    "# pandas filter rows by value in list\n",
    "# df.loc[df['col name'].isin(ls_conditions)]\n",
    "filter_list = ('S','L','G')\n",
    "df_AAfilter=df_AA.loc[df['AA'].isin(filter_list)]"
   ]
  },
  {
   "cell_type": "code",
   "execution_count": 140,
   "metadata": {},
   "outputs": [],
   "source": [
    "df_AACount=Counter(df_AAfilter)"
   ]
  },
  {
   "cell_type": "code",
   "execution_count": 141,
   "metadata": {},
   "outputs": [],
   "source": [
    "import numpy as np\n",
    "import matplotlib.pyplot as plt"
   ]
  },
  {
   "cell_type": "code",
   "execution_count": 142,
   "metadata": {},
   "outputs": [
    {
     "data": {
      "image/png": "[encoded data removed]",
      "text/plain": [
       "<Figure size 432x288 with 1 Axes>"
      ]
     },
     "metadata": {
      "needs_background": "light"
     },
     "output_type": "display_data"
    }
   ],
   "source": [
    "labels, values = zip(*df_AACount.items())\n",
    "\n",
    "indexes = np.arange(len(labels))\n",
    "width = 1\n",
    "\n",
    "plt.bar(indexes, values)\n",
    "plt.xticks(indexes, labels)\n",
    "plt.show()"
   ]
  },
  {
   "cell_type": "code",
   "execution_count": 53,
   "metadata": {},
   "outputs": [
    {
     "data": {
      "text/plain": [
       "(1413, 1764, 952)"
      ]
     },
     "execution_count": 53,
     "metadata": {},
     "output_type": "execute_result"
    }
   ],
   "source": [
    "values"
   ]
  },
  {
   "cell_type": "markdown",
   "metadata": {},
   "source": [
    "**4) Create a boxplot of the codon weights.**"
   ]
  },
  {
   "cell_type": "code",
   "execution_count": 143,
   "metadata": {},
   "outputs": [],
   "source": [
    "df_weight=df['Weight'] "
   ]
  },
  {
   "cell_type": "code",
   "execution_count": 144,
   "metadata": {},
   "outputs": [
    {
     "data": {
      "text/plain": [
       "<AxesSubplot:>"
      ]
     },
     "execution_count": 144,
     "metadata": {},
     "output_type": "execute_result"
    },
    {
     "data": {
      "image/png": "[encoded data removed]",
      "text/plain": [
       "<Figure size 432x288 with 1 Axes>"
      ]
     },
     "metadata": {
      "needs_background": "light"
     },
     "output_type": "display_data"
    }
   ],
   "source": [
    "df.boxplot()"
   ]
  },
  {
   "cell_type": "markdown",
   "metadata": {},
   "source": [
    "**5) Create the descriptive summary statistics table for weight.**"
   ]
  },
  {
   "cell_type": "code",
   "execution_count": 145,
   "metadata": {},
   "outputs": [
    {
     "data": {
      "text/plain": [
       "count    15232.000000\n",
       "mean       106.537615\n",
       "std         37.292352\n",
       "min          0.000000\n",
       "25%         87.030000\n",
       "50%        113.080000\n",
       "75%        128.090000\n",
       "max        186.080000\n",
       "Name: Weight, dtype: float64"
      ]
     },
     "execution_count": 145,
     "metadata": {},
     "output_type": "execute_result"
    }
   ],
   "source": [
    "df[\"Weight\"].describe(include='all') "
   ]
  },
  {
   "cell_type": "markdown",
   "metadata": {},
   "source": [
    "**6) Use the stop codon as a separator and create a new dataframe where each row is a new protein sequence. For example, the long string ABCABCStopDEFSStop is two protein sequences, ABCABC and DEFS.**"
   ]
  },
  {
   "cell_type": "code",
   "execution_count": 146,
   "metadata": {},
   "outputs": [
    {
     "data": {
      "text/plain": [
       "0        W\n",
       "1        K\n",
       "2        S\n",
       "3        L\n",
       "4        R\n",
       "        ..\n",
       "15227    -\n",
       "15228    Y\n",
       "15229    H\n",
       "15230    K\n",
       "15231    L\n",
       "Name: AA, Length: 15232, dtype: object"
      ]
     },
     "execution_count": 146,
     "metadata": {},
     "output_type": "execute_result"
    }
   ],
   "source": [
    "# Notes: convert the table into one string, then use split function. Delete \"Stop\"\n",
    "df_AA"
   ]
  },
  {
   "cell_type": "code",
   "execution_count": 147,
   "metadata": {},
   "outputs": [
    {
     "name": "stdout",
     "output_type": "stream",
     "text": [
      "WKSLRPRIANLSTTMMALISLVLVVVPPGEQEGLDASYLPPPLPSFGLALSEL-GCLKLCLCWLDEDGTLAVEYFSVQIPSLLPFDFLFFFFFFLLQCLGSC-FAENNW-VFKCRIL-HHIVL-TRVRGVELYWQRVLKEKAESWLRIWYKTHRKQLKNPLLLLYLRRPLLITANYLKGSWVKRMLSKTPRT-FCCGW--PTIVTK-MQTLSNFPVSQRHNLKSSTTTNRRKYV-KNTKELSKGLRNGSGAGRGGSHLQSQHFGRQRRAGHEVSRSRPSWLTR-NPVSTKNTKN-PGVVAGACSPSY-GS-GRRIA-TRRRSLQ-AEIAPLHSILGR-SETPSQNKEKKKERKKWLGCAPFWGDRARLRLKTKKKKKKERNGSAWWLTPVIPALWEAEAGRSLDVRNSRTAWPT--NPVSTKNTKISLARWCVPVIQATQEAEVQEFLEPERQRL-RAEITPPHFSLDKRVRLHLKKNKPKKR-EWRVWEEKL-ESELFADRF--SAMHPELCF-RQVICLLLNRRKGNRFAMEAQRFAMEAQIMARGNFE--RQLTLKQQEWLSG-RGKFWIMWEIGKG-RCMLMTVSMLTREHTKPKKILSFQISSS-IPKIFVSYGKC-VGVGSNSYFKAFNCNDVFIQFSKYSKC-RSWLKKLTCIIFFIHLLTLFTMTGATIHSCDQILLEAIHTWQP-GL-MLSLQANQFNCAPS-KLEKS--DKQQTE-RAFAFFTLSSRIQICPLHWS-KSYLKVLPLFLEYSIPITPWASVSSS-NEGA-CFIYKVSFHSEATLPREEKKAFS-KKKKKRTFPPLLTHFPRCLSHI-DFLLRLRLGHALPFSLPQRLVRIQGHCASEITVWHQKQNTDLR-CFLYFLPFLHTGTQLELWDPPERTFSNFQLPNK-L-IQREVP-SIRVILLSE-MRILLMRGEKGDQLAGEIYVVPTRALYI-LLPRHFSHSDQGPRSN-SLFLFLFIYFFEMDPHSVTRLECSGAISAHCNLRFCGSSESPASVSRVAGITGMCHYAQLVFFCIFSGDGVSPGWPGWS-SPDLMIRPLRPPKVLGLQA-ATVPGPGVINLKQAIFSKQKHLTKYSN-GYQACKESIF-KLRDGSPNTL-PSVNSLRNSVLNLGALLQAVRVLNSIYNSSALYGLE-LNQVSRSL-ETSTFNNTFLRRRDSCKKLSCKKG-ELP--CN-QHSF-FFLSFLPSPFFPVSYPCLFMLHEYLKLIELALT-EPLLRKSISWPFPEYLTSCKPC--YFVF-NVGELQPLQPLAKKQKL--QRSPKVQWNQGSPGRVVVSWAPPENPRLCWRCCRDRWRRGEAPGKSSNASPLI-LL-LRIRIPLGFRFFFPKKRIPKLDKQVTFTQ-RE-IRWSPFRFSFWNLEEREVVGGGRLKLLAMPVQIDSSYDGAGSG-RGPQVTGGTLRAPSARGGHPQVGAGPGFHRGAESLSQALAAITPERQPPPASLSPRGDRRSAGKAVPPTTSGAGSAATGGAQFRDRTAPTADLLGPT--AGHAGQREEGRGRAKAAESPLFSQQERPAALPGHGGHACPRPGRPPAGSQDWPQQALSGPVGGVSGGGGARPTAGVRLLR-R-RFAAWAGPARRLHILGSEEEARAGAAAGSGAQSSGGRRRTRGNSGSSPGGGSNSGGGIGPSRRPPSHPPAPRQP-LPPLGSPGPARSAGSCSVLFSLILQRQDPAPGTEHRHHGEGGECPARPGRGLGEPSRGRGGSREGDRGQREAAEEEAAPRGVGWQSRAA-KTTQFGNGGSAVTGGGGRERRGAGARHCLGGWADPGRGLRAPEAERAGGSERRCLGSLGAGRRGLAAAGAAPGLSRHP-AWLPSLRPPSPPSPSFSLRPPCPEERRAPPLPLGRSAGASSRASVPAAAPVPAGAASGFGAPSPGDAGA-LAPRRGGRPPPKKKLAASKCEAGWAGWCQKGCVFTALRWPLRYTFEGFLGPLSVNTGCTDGNWSCHPMVGRGVQIFFEGTSPEGG-ADPPGPQGTRNPKKDWRLQAIRW-ESLPVSSVAEAPKGGP-RKRGVLGLESGAERGGNIVTTPLSYISVAKT-LPLAITRAGDWALDPK-AKV-LRKIYTE-PRSSWGESDHVMRIQMGENPLRCLQGLAQCRH-VGL-RP-GFWV-TECREQREAALLGDSKGVLKEVIERLGPGGENRHKWKCTTRLAFKSMQRGGLVQVRWHQRAEYRASPFP-WSLG-WPVLLPHRQTLDHFCKHAL-SSFFVSPALKEKEKSLLPELILGGLDITDVCPKPRKVK-LAQGQTVG--QTRRP-FLNSLWPQA-TCIYSLTLSSLYRTQNFG-NGVFVMLN--AMEMVWVTKLCPFI-MSPL-PHTGTHAQ--CGGNPPE-LVELKPRCLTTKCIVASKHKIKLQLRTLG--AAWLLGGS-HFEYSDTLNISLLVCVFVCVFVL-LIVSVQMFRRIFHVGIFPHGD-NVGGE-LKPC--LANKEACAGS-FLRSL-ISSPPLLSTLCGLAFDDISGDFICP-KSSS-AFGKKMKEQLLLNHSWMK-DFVPFFLSGFYCQ-LGLNRQLGLPPATVSLTKGTRHNCLEMWESLSSQVCKR-GGGVSPGLSLHSGFSLNIIYRKNKS-LMSSDLRKGREKRFQ-RWQGGCTCQQKSWLYGNVISCPFGAQLESVTKAPLAAIKLVL-T-SIVRQMPQSGKLPGPGRELVEQVTGRTSA-SWGVERALVPHPLPVSCSACNSSLLLRFFLYPFIRVYPLLVTYCLLICSVPCQ-ACNTLVTHLRVGG-ERERPAS-TWEDGERVVNLRAQKTNQNKKTKKKMPLKIQLDVCPDEG-HLKYTDSWECYS-IAFKNKSELNIL-HNRLGTHPCSMPVPSVIVFGLF-QQMNR-VTFHSNQAMFF-IYLNLRIRKALTKIALKDFVW-SKIGFFT-KQTGLKVK-NKSPEASVSHLAFG-NAHPGDQVK-SMFCLWKECCASLSCGYCYWAYIGTVIRAKRRSNLYRLGLLFVSKSLALAKLESSFSFTMRTY-GLKIMGNTVNCPS-ESQVEVSIDIIATVIFAQQANLLFNSIFLSTFTSQVKDFVRG--SFLRF-SLAK-NGLFGLL--EGA-TFVLC-LLLAAEGSLPANRLEEETRVSDQMGSQ-SEWLGLDGKAPGKMFPIPARAVQF-ITLKVHVQYMIMCSRENCKTYSLILKLSIYIFWGRDVEPSQV-TFSRCYELSV-EEVCILWLES-RDCS-HMTHLISCAEICCQESTRSSSYLFCVSDSRFCYERSTLHPTLSLWFGFYLHPEQRDF-SIDLIPLFLCDFTVNLFIWF-TSLTSSFVSYDEIYLHVISFQFYSNPI---LLAVSVI--VDS--FVLCPWDLYCLGA--SV-DFVTQWALLCRSVSCDCSF-SVTM-GQVPNALWGYPLVCFFYLPHDASMAPYLFYYFNSCDISLGPWTAFILFSLAVIFLPSLGFRVLIEE-SGLTGS-SGPLITHMLIINQLSLTRAIW-NEKKEGKVVSRKGELRNK-KVLTLHNPCT-CRGRIFH-RN-SFCLIVLNNCKSKNISKVH-FFTPFRIFIF-MIMDVHYCR-GRLSGSLRIDMQADWGGRLSHVLLG-GNLLARTVAVL-PLLAAGLPKFGYTKLGSQRDLLLWPW-IIFSRMHIWVGKRRNMKAWWPLRLTSSAENCCSCSDVLLLGLDSSHGTMTVSSLNPGHPLALQSLARQFLAHKLNYLVI-EQMEM--TGLDHFLTVIFFKFSLLRSNEK-CQRSFFFKGLKRIFIESEKWQ-CIC-LRPSYNNSLCVVL-EYFYIHNCVG-FNNVSTRKMRKHPSPLPFTLKVAQTWQPLGNQQGQSPSHNFPAKVVFAKSCPEVLFLQSSWQLRNGLHLGHFLLPSFWPFLPVKSFCLWALEIVQFLRCFIFQS-WFLD-SDYENAFSRFFNSYTKCYSHFRNEETKADRQRSCSQHVATLE-IGRLNTISRPVWREWWVLNFQVPSKLFQQEFQKSQEF-APCWPWDIVLIWWEKCRLRKPSHPALLEAGVWDGYEGLWRWL-LMQT-SNIPLGWKILLILG-FLNLSYLSPTLSPLNG-LPKKRKQHLQL-QVSGMSHSL-GL-GFGIYF-VSEPCYMF-PWFLLSRILSSHVLGTFSLYPDQIAKCLVNL-EDRIHGKHRMK--RCAKLCHRG-APALAVTFHFLN-NGRGKKKNHNPTSFL-VAL-KIV-SVEFPLYLSSEMLKGAGVPLHGT--E-GLITPSPLGGGK-PELSN-KSRKCVPNAQMSGKITVVD-GNAVFIIHPSHDLCFSLMP-KIIRKHCPT-FYHCSSHAVCTP-L-ILQL-D-GN-D--GFKDIWFPQE-ANIKLLFYLWRRTKLYKLPGSSRHTLPSEKIKILKKKQFYLLILAMCLTHK-PHLKLCLT-HEWIKKKESY-GI-IPN-L-H--W-SYGQDIYFVSGGKTLERVQSLAALVILSPLLEWKILEV-E-AKHADYEAEGL-LFHLLKYISMIFNLLRENP-AVF-KSIQAGHGGSRL-SQHFGRPRWVDHEVRSSRPAWPRW-NPVSTKNTKISQAWWRAPIIPATQEAEAGNCLNPWAEVAVSLDCATALQPGRQSETPSPKKRKLIQSGHINLLEILSQCL-NVF-VLCFLIKGMIYL-LKLKIYHFSCGSFLVDDLPFPFCFICPLVCVTIFHLNSGTKSCTERGTNKCGCSIMERMSRMLTIFRPASLIDKIETKEPTQLEEVISQVVLHT-PQKLKR-IMCLYMWPTPVNLEKDFSLES-EDIFKFK-TMYFICNY-L-LKHT-YVLIFFFHFSTVKL-SGHEFLIIALVAGNALRKVRNE-RRTTK----HHMSCILRKLLMSTFWP-VVVVGGCFRGRCLEQGALLLR-ALEHQVQALCR-AQGFFNRGGGVEQSKFKL-NQHFL-KLFQFSRGVGGSCELCDNAHAFPTSCLCQNISRDFHFGGFIFRLQNGLGAPFFISYAKNFKES-ADFLIWEAGKGQCSYVSTKDI-I-YVIMSLQSKEYKQYKSTSI-MYCII-SLKT-NEVGTILYLHAVEEEIEM-KLVTCLRIHCW-VVKPRILTQGCLIENADS-AQYCTLS--CKVSFILSVGKMEGCRIGILIAKISSLTPKGSGTGRAILKPTGSFSIVLNALGWRECILSQCINSRLLCLCSRQYMGIHFPDYYLNDYSKL-LP-KLPKSPAPEFSVSDEVHNSWPHFSHILLQVGRDKYEPAAVSEQGDKKGKKGKKDRDMDELKKEVSMVSTRRNIVFHPY-KSMIFNPPGLTVFFKELLYIKRDHSSCTDLI-S-RLMLNIYFLKAVRG-EKLFSHSGITRDNRRNLG-YHESLLFSVLYQTLGNSASPGDGSFHRLNLSRIDLVIREGR-GFTRSLRAAGFL-SVMANSNGPRSLSFSHSPVKSCQ--LCGCKATKRW-KLYQLMH-RKHLHFV--A-----IMLFFLSFFYTTLFNYFLCFCFPLG-S-T-P--TSS-IWNRLEPGMF-FESCCTKS-FSVLYFPLYYIQV-PQGL--ENDRHHLRIYHVTCTEFGHLYATVSFP-NFLKVDVIFFSLFYSS-EPVSGNTRTCSWLQSHAYALTF---IFPLFFYIC-IELNLSPS-IFNNSHFCTFPS-PIAVCYGYTIICLVILSFSWKLFCTKIKETFS-NRRYVSLLCRGF-Y-MCNKCYKSK-SRDVLFPDNH-NVWE-LE-QANM-HFFSKASRDMGTVVF-YILVFVHSSWFITPIALITVVCYNVGCVRPQWQASRNRISLLPSFSPVARQDSNLVPLF-FSR-IVLELNWRKPWWWGETATPLLTEVIFCVDCWGVRVEKRPGAVAHACNLSTLGG-DWWIT-GQEFDTSLTNMEKPRLY-KYKISLAWWCMPVIPATREAEAGELLKPGRWRLQ-AKVVPLHSSLDNKSETPSQKKKKKKKKKKERRTRLRAFFLTQAL-APRGGLESAQNNMPTVTLCLLCARQSLATSHLT-VFIRVLMKCALSDLCPLLKCCGSISLLIK-G--CLKKDCHEN-TS-LKH-IQFLACR-HSNVW-HEHKTQINRYFRQKYFIFFLTCYFESIKVIIFSSLNESLYVIACCQ-ILGLRPIRKIAGFSRVVFSSEYFSVNRFIGRWLKCTWR-ALPCQTSKESSCIFKTWLLTQRISTGSFFLL-CL-RGFFSPPDKINTQKTQSS-FAKLNGFVKIDTFLAEMQFGINPLI-NLEETRLNSNLLMDQFKEF-SGCYEFLGPIVCLNPVGTGSSAELFMEEFARFYLGSLAWDILFLP-ILIATVQLPGRYIAL-VLVQFALFIFHCFSGINICSCS-DPGARWSQRPHSPSHYS-MDQVLSAALWGVLNVTVDWSDSLFLGL-HPSCYRRGTSKR-CEFCNSAYGFVVHIRYLLRLCLPLLLNYHSLLNGYELIT-WL-TAVAFKAHPFFLRFHFLSLPPTL-MLLQVGCPPACAAVSRQLCSGPGRHPLDGRAQRFMLAHPPVQKCLVAILQNPQVG-KTIFVL-SRRN-CI-NLSKRPVSDQVLVCLTPFLTLPVWSLEG-IRKHEFYISEILVSLLKICFLFSQKIN-MSLIIV-SHGP-LVFSLPAVPGCGAISRCNHNWLLLLLSRS-KFKDHGILQKHGPSGTRRFVLPQWMT-QPQACQPVN-CEVKVFQVLHDSSERWMSSTPPKTNLFSFYPKSGSLSFECKL-IQAHHVTAISLKLASKLL-LV-IKK-IISLFCIQVIRIMTIFIFLFWTLPSLCWYTNGVNCFFSKASPCDSKW-ENEHKCGGSCGWGSGGSKRRRPNSC-PQNHICKWLQGSSFILTNLIASSAVRAA-FEGYSSP--GWCIHMTFFFFSSHIGG-LLAHW-IRTPD-VSRFHK-KPPGDEEHCLLFNQLC-R-AIFGHFEHGVVFLLGINKIKTIGTISCFIGSISENLCQAQSRGVFLAGRKPCGSFPSLHLHPASSVNNTSLAWVLELLSCYWREVPLPNSMYSQRAGP-KVLLSTLFVFLVILCNCVKSVASFRLDTIRYSSPSPSF-GTARGIVVYTGDRTVMGRIATLASGLEGGQTPIAAEIEHFIHIITGVAVFLGVSFFILSLILEYTWLEAVIFLIGIIVANVPEGLLATVTVRGR-WSP-LRSACTNVTLFRYPILRYCQLMFYSGCLI-FFLRATSRGEF-Q-ENLSICLYVR-PQSIHFAFKLSRGPEQCSGERRRTWDQVGG-NMVESCYYFS--IAFLEGRGSLMYGFPLLFLQTSEEGWRDLILDKFLPH-DIARICIEFQPG-VK--SS-YFLGLSDTYCQTHGKEKLLSEELRSCGDLGVHVHHLL--NWNSDSEPDDSGPHVV-QSNP-S-YDRESEW-GQGYHTPQPPADFAWFFFF-EIA-NFFFFFKLMAAFSFFFVFFFFII--RVKGMGY-FFACQ-KL-IALQT-LKNA-NVIGFINWEMRCITADFYGTLIGELRTQPLKLMHCCSVVFSCLHQVSLLTRLQLPGLLCPELQVFVTGQCFRLTRKTYLFLRYAQELTNGGM-TAHENCHLSVKSSKLPLWSV-LFTVEHLEWSVQYFAVCNLHCVACRS-CIIGPPAPYRLIKKGRCSKNLTKVGGEETEDSLYW-KT-FICFYYS-VYMLSPNLVDSES-GLQ-LHNRICILGYSRFQ-LL-AIYFPEIAQLILSYWFLACLLMM-K-APGQNKPSLSLWNSDAV-ND-DFTMLPK-RCSLRRIMNCTKSCRRRKLCEALWVPHSL-SCL--LWV-TKLPKGIWLGCNSDAFCDEDRVHLFCKGDFLGIELMLI-G-CCVS-G-NLR-MFHVFLYLKVEMF-ALSIRSHKYQIFPD-KTPER-QKLYSKYFWSSAMLMALLLKSGEGEAALFCFY-KWLLLK-VAFI-NVPHLFCVSFQTQPTFLLCGAAILLSIDLFICICSLTC-GSKRFTYIKFVYN-KCFQYVKI-VCHHVS-KICVSLKHGL-LKCYVVRFYYCWSW--LSVHILQAQLILHSYD-NAQSSTLPLTQAACPQS-DLKHFLTNSTVMKGAINV-SLTWYFQISNQK-VVGNSIGFETFQ-ARGR-K-TAVGWKGVLIPLLGKVTPSHTLLSLEAAVGWGRTLGFESEAL-TAVVGARGTPVPLNTAASFLPILCYL-QDWNVS-VIFPVF--CLSEIFWR-FTDDVSVHSGQLQEMPLSQHS-SA-SCAVVP-RR-EKDTPKSSRYPSTPPTSTRSEDRWVHGGRGQAGGQRGEVHEQEEEIFSLWSFISFSFKFCP-LP-NAII-LNISRINEASCKTLLSPFEYLWFGVGVGMWGGGWRYVYTSVPQSLCSEISYVLF-CEQMSGIYEYIIVLIFFFFCSIQSMLQV-DTSEFRKKGSWVFYSKY-IVSEALFSTMDCHTSNHPMFMSQQSFTVVYS-EPQHIGAPTPVGDEGRPRKDPRPLQLYPPPRQGAAPG-GAERRLSERLFGAGGPRRTSPRYADNLVTECLGTFLSSNLVW-TVNK-SYEPLCLVDLPLHLLGAILLFVYLPPIILKTISAEEMFSVLGCEKQRPDGLLLTCT-TFGLMLVSSVCLKKKMVEEYLSYLTFVAVDMTYKPN-S-LILSVSKLDILFPDCLGMGVNLHEHLCAQLRN-TNGKLLV-DATYFFLP-QLLRLRSSLYPLSNVFGKVAFIILCRLTDTTFIIYIMLPILLNLGKSNSWYLSYVSIQPKDCYLLFKCFSLPYFHHPKVEAVSLLLSPHGTLKIIVTSYNIEKNVLHYLDSCIYYTR--TPWAECI-SVLILKSS-HDVPHWCSVICFS-MNKRAEVWP-CFQRRQLRQIIP-FAKSK-LNVIISGQV-NPNILVLKISVINSVFSTLNNFQFL-GLV-WILSFKCFFSFSDSIVHKC-IKPSLCYKNIDFKNFPK-TLQRKVGGLNRLLLSFLLPSVTEIFKGSCPPRRFLPPLSAR-TVS-RVPV-H-RCEFPYR-SVLCWAHLHD-PSTGGRS-CRGQMSKCWN-GSAQAPPWLHLLVPWDTLLSECCLLRSRWPAVLSHLEY-FLISKALLPPRKDQIVLKYDGVNTRGIKNFLESNCVKKKCKQSKNSKRLEVLKYLHYSKLMYLMQ-MAYLLCFQLTVC--VFGVLCVSVFF-VAEYYSSALISCCWVFGFCFLLSGFYFIYFLRQSLALLPRLECHSTISAHCNLRLPGSSNSPAPASQVAGITGTRYHAQLIFVFLSKDRVSPRWPGWSQTPDLR-SAHLSLPKCWGYKREPPHPAYSQD-YCPEKLCRSYFLTIPTASF-SIF-V-SLHQKITILNSCHMLLFLQVVPI-EC-PVACGVFTVPPASDFYPFFFFFFLLVLVIFKYFYVTL-KEK-TLCMLVIVYQDKT-VLPLCFLSVDIYVYIFG-SMFISFIFAFLSF--SKPNHP-YLLLPTGYKTLRSFTWQLHSTHCLVYYRSSWSQETIQSQLKLLPKVWASSQKAMRPWKTLLPASTSQSAR-TPGKAGSSNHSLL-TSK--WFKIFSVVL-WFASRLALSRKCTCTARKQPCHS-EGF-VRASHNN-HLDGIYCSKSLIW-PIICRAGKVRIQEAFEVPQNW-NHAVNSAV-LLISCC-PLSSTA-HLAS-HFPGPH-QNKIRKGQLLRPFRQTQETFGNEVKQIIANWFCFKV-GPFTLCYG-RRVWSCISSATF-NLVIFLFFFDGVSLCHPGWSAVS-SWLTATSTS-VQVILLPQPPK-LGLQAPTTMPG-FLNF-TTILASWSRTPDLK-STHLSLPKCWDYRHEPHTQLKLGYISACLIKIGKGRIQTGLP-RSS-ASNEIKYMKMLCNL-STEHLIAFMCWGKFLLCFVYKVICIRISPLEVMDTCW-CDA-LFFFFCPNSRDAKACVVHGSDLKDMTSEQLDDILKYHTEIVFARTSPQQKLIIVEGCQRQVSQHKDQAALGTIGFRDWSSSGNRATVMDGCIPRCIRLSINRPVGSS-A-RG-LVNGLAVTEAL-SPGVHCVPEPDRSVESSDMGS-YLQ-RCEWSDYRACIQEWHFLECHPPESLL-VALVNAGGYVCCHFSVLLFGVGPV-ILACDGSQAS-IVSIGKEQCL--VLSGGMHRTISIARKSDWY-PVFPFLG-GAIVAVTGDGVNDSPALKKADIGVAMGIAGSDVSKQAADMILLDDNFASIVTGVEEGESYLRCTPRSYSDTAH-HPFLYTSWICSVSSVLVS-ANSKKSWFS-VV-SLIT-RNPLLIP-PVTFPRSPRS-YLLLQTFHYHWGLSPSSALTWALTW-VSQQSQIDSSEV-AVSSFTGTMLPASMRLALGKEILRTSIQCVSQSRLHRISITTLQGSS-HLFIRWESLFLYTSPKRFLNGRARIL-QKVHNISFLIFSN-IPSPHPFPGSCHLPGL-AG-E-HHEETAQKSQNRQTCE-AADQHGLWADW-AAAWSGKLAHLRHLR-WCPPQVEVDFRDCKSRRLSGLG-ALTE-ACGVSLNSLPCENTSVAVCPVTFCGNWFSILSTLELGSTLPEK-GCPSSLSLAEQEAWF-GIVCTDAQAAFPGDTHLSVTHLDGVRHWRKYMCLRVWLVGHHQRVILHPPHTGLLPPQCSMTS-QVIQVVGNQHAICF-ILCLGFLQENLAKPPWMSYSPGLMGHITVNAWIKKNRLDRILWKLWQRFIRQLLATK-LAGGPS-PSPRRPAFERKED-VSGGLG-NPALRNLEQRG-IGCQGEEGPEGGEESQKVPQWLEKWQHVGILKDGKEVIICQRLKSREVDFP-RSYP-KQLVK-QVGILRARHMCLCVGSKK-LKKQRALRLECMPGVLHPIPHSL-VTRQFFPVLLSTRGKHSSICALPGLLQ-SAEGYTGTLVCEVLVIGLFSQLRNDPGPGRLLYLLCDSG-ERLPPNSPVGPPSGLG-PLDQRCGRQLRAAVGEWAPLT-PVSELLKPQKTEATLPPAMQVKSQSSSSVFCISDL-AEENRGVHLPHSLLRQYRGGAVGRLGHL-DQEEFGLPAGDEVSNEGHVKALAQRRGLVICKPFAKN-TYDTYSQVSGISSL-SKFRKQEM-LSSFFI-PPSFQVQLIHKDVDLPF-CIALEDKPLFAPFKFFLPYFDFRNKILIFGLFEETALAAFLSYCPGMGVALRMYPLK-VDPLVAPKSMK-YVWLFPPLLVVIVVIFRILSGMYKNSYGLENCESLTCQ-IRLTNPEASMIAASV-DLAQDKIKPHRL-LHGTAQQRTALSTQVCHSCSPVVFRGQLGVCWSVGAQAQILICLLSHCPITSHPPF-DSEYSALKERRLEKQI-GPFYFIISHG-S-SKEAYC-SLALNTVNDSAFQINLNFQRGFITNSVSFLQH-VCLVIPG-G-ATAT-LKRAKPQIVGPIYKFL-SF-FKALVSFEFLLSSSLLRPVWTISQSPVASTSFSSSYP-SNQNPSASFTSCGLCADIVCGAR-DWHPESVSLSQPVFIAFSCTPYPSKLMLGEFGFLPLPLCLVRSFLPTSLLLFPLTLPILIVPSGPVSLELVPPGPVHLHLFSGITCCLSFHLPARF-SRRHGPQCLSSLCIPSSLHKAGVQQGPAISKLNSVSLGHYVSRWGLERSQSFPKRLVENYTEKGAFPSSGSFPGFFATTKEIVLTGSAQFWKVVQLFGD-VK-DHLS-LPCQTHRKKRRPPESCPGTAFLTP-QGAGDHGGCLEPVSRLETVWLSLQAPWKPSGSAFFSPQDQASEHRADIPNAVVRDQIWGMHKLVLTHTGRSLSSKCWDIRQMVLKSFLNTLEMKERKCSVALGWLTEKYSAHPINQVL-NPN-R-VGIPLQSLQTDFLCVSRPWAHGVAICFKTFLFVLLMTQ-LTVTVLGFSFQADYFIVTGDVQFLFLYLNCVRVHINWYLTLFPDLPGGSVPSPTLFSSSYMTKSENSSSGDALAVIMGILTLVGGGVGGAIVLLVFCFPQGV-APSVVSLIS-GDWTSKLTIVTSSECRSQLQFEDWSCFRL-NTNQV-FSENLSESKPSFQVTWYS-KHVNKYS-GPMFGF-HTRPPSSSGWFSSLFPSVMLERGRLTVVCLVCLFATHRLGGEGNLLLAPRPARRGASGHTLCIRHPPPLCVLQSWSLELYPGRKAPQHVGKQDVLE-SM-LYGGRGEGCLKTIHLWK-QRGRFLCAFLFL-KRNTRKD-KNTFYIWIFTNKDGYYNGICLCPRRFFGTDVYVIWSCGFQHESLTSSLSASPGCLLGRRAQTH-VRNASAMWLNKPSGDFDLHSSLETTG-EEAFCPCSFSWSR-VYLTHFFWLLPGVIGL-LHLLP-HLAF-WKSTSPKGFPDPQSILNCR-GPSLSV-KRPEAFLLSLQRSPPHLKCL-PRAYLRSRNLSHTVCLGMCAEKWFPSFHIMCS-FSINDTISASGYVPAST-EKGERDVFTSGSSLRTPPAFRAAVKGSPQSQP-VVQSAVNCRCFSQAVIANCRLQANTTSKLLTSGTKQ-S-SAR-S-CLFSPKSLTQSSCLVAVHFQAGPMREETVVTPVHWGCGCCTHPLQPQNWEGQVVLDSPFLGHFPLG-SLHLSASHL-NEPFAQTKIRKLELKDHGIRRL-VR-QLEPPGRYFTGPAVTAGPVTQDVSCEVRLALVVSVLRLPVCLLSASLEKTNAHTLLR-RSWAFPDAKDLKHSETLAFDKGTPENVKPVFL-QL-EALVFWETLEGARQKEGSELHT-FSTRTFLPFSV-QSFE-KVLQPNI-FRKSR-VSCSSWVKLAPKSGLLWVRAFPTF-KQECLGSHFYLYAQTLLLALSLGAKITPEPSQAASHNGPQHCRFPTDLCL-PPFQMPS-QTLLTTYLFQYMGPH-YVQLLKVLLSI-IAVLSLSHPDPYPFL-LSPSLMDKLVEESLPLLLIVHLPVIPLPLPAPMNTSPPKLPG-GHTDLLMHLGPSLTSAASLLSITPFLKPDLPSFCHCLCALLSSQPPLHLLDPSFPQGGLHTFSPCFILFLA-FPALIWSSPEPQMYKSSVS-TSAFVQKEHGTLES-YQWRA-V-GSTNKYALGSDDIWHPTAQARNRKGG-ALSFPALPPTQLLWIPMLW-RTWTLRLLTDTDSVPSLADEGHII-PLCASFTLEYFRAVKRIK-NYA-KGVS-WLLFNSSFSLLPVSFTSGCWKRLFGGIPNFCLSLFR-FSKCFWTSSISITWELVRNANSDADLLNQKLEVKPSNLLEVAFQVILMHSKI-ELML-SILQAHMAAPLHHPSSHWTPTHKPISAQPFKLLCSPLMCHTPFLLPSYKSLWHSPNPPTFPPTFIHLANPLTL-IPIRSGSSLLHTLV-HFHFC-FACSRIDYEFLDDMDQAIPSPASNAMDVY-MNGCMHIFLLPKQPSF-HFTVTLSPLLGLGLTPYPREIHVPACHLSVS-GLSSLKTLKLESVRMSHAWN-GVRKLSGDPWQAKVLGKEEIHKDRDTKRNISPGPAWFQSFLVPVLGL-CSHKPLPSPN-IEISHQIVDEYSLFLQRTHNSN-LSILLSYVIINLISLFFLLSFMRS-SQSVLSILSLVLSSVPHKEN-TLSTGGQHSLLKEEGIEAKGLVHGVLCLRKGGKAGTRLEWVGLTLPTSYAVCRPPRCKPDCTDVRALTVGGISWLGSGLPVGLHGICAHRLSSAGFPFQPHHLTHVPGDSVSLSSGLGSLDPGHFRWTMWASHVVSPSLCL-NGR-PPFLPHEAIVKTK-RKMWKGFSTVTGPSS-FNKRSLTSYTRPHTHLHPKLCSRCLLKINTGERIAVPT-WK-LLTV-WLLHARQCPKLSTFQK-NNRASEK-SNLPEVTQPQSGRVG-ICLEPRRARILGSQHAREVLAVVAESTSRDQEQEKGSVFMKNKEQGRLELVLKHKIMESFLEIKHMLLNSYSNGFAPRSCWVIKLQLA-REQEGGRL-SSASSALPLLLGEWADLLPRLRLSAYGDVSLASCGLQRGLLCVHDCPSADRSFNTVPPGPVLYKQ-SHPFSSLPFPI-DSDAVQLICAQERRAV-RGYSVNAENVFVV-IIALYKTACKFLLVVFFCLFVCFRDVVSLTMLPRLGSRDPPDLASQSAGIIGISHSAHLVASF-SFAKMTGI-RHYCQLYIVPETNIHPLL-KSSAYGFSPKEGTAKCSQPALHPMCMCQERSPESLQVTQSSSLITGANKAMFSKGRETNIYRTCTTAYSTILGAFYFISSYEVARGKYNPHFAEGKLRG--PVRSG-ECV-THIYKP-SFH-IKLLPIRDIKESCVATGGFYLNIP-SQRLPYTKVDSSDSCGSIYLSS-LGILIPKK-LVGRHGRNLLVVQQTIPLLLPKHPP-THFSPHLVEVQPCDCSRQRNRSSPDVPITCRPGP-ALPQKSILFLYLPDAWWKK-EGPQAVVLIVSC-LKSHESFKYRHCQAAS-TN-NRHSGSGTRHQDLTKLPR-FQCAAKVENHCLRLGTLGGQGRWIA-GQELKTSLANIVKPHLY-KYKKLAGRGGGHL-SYLLRRLRQENCLNPGGRGCSAVSRDRIIAFQAGQKERDSVSKKKKRKKKKKIKSLPQSNDSQNVSPNQQDQQDQQCLGTVYKMHIHKPHPRPTESETLGNCILSSPDDSDAY-SLRTSRGSKPQDRRSLALSRCLEEGHVREQLNQEHPYQTIV-ETHFHCVKPLTQWVRIYVAYERTWKIGRWGLSSGVQELAHTSSFVKFSGILQTR-LLIGNIKLAKVGIVTPWKLSNATNQDLFSQRAGC-TLTSTPLGLSIRE-KGGMMVQWPWAVMNHQRKCHHVRLSRPSPHAGFS-QHCVFAMSLYLEILEAERERLWKQSG-MVKTIIQVKNWWGFSTVALLSF-SDESFWGTVSCTLCILVGLAASLGSTH-MSLATLLPPVVTRKSVFRYYQMSVRWRQNHPQLRTTN-ELPRRQETPP-GWAGPQPTISTP-QFREDAFGFNCNHFLSHSINLFSNVPYLSDHSTPFSTTQLPESVPH-LLVWECLMLTEKYFKCVSFSPRHHWPPSLFKIVWCRD-EHWF-WQLVCLDLALPYFSSDFRQVT-PL-ASSISLLIKRVKILFPTS-SSENKVR-YSTNTGYCFSLNGF-STPRMVDHVPHAGGMELSKTNT-AHSLLQSGGEDSAMSRS-EDVW-VPEEENPLVPQKTTGGA-PSLRGWEEAPGENKDGLRAGPAGCLPNVHALPLVFTHPMLHWGIPIFLDLFSLHFFPFIYL-KYGMLHEFAQHPCTGVMVISVWFQF-HTCFQSQHSSLFSPHSALLPFFS-KVTNHFNVYLLISMCSCNMGIVLCVCMYF-TFIMKIL-GTQK-RR-YHKL\n"
     ]
    }
   ],
   "source": [
    "# Python program to convert a list to string\n",
    "    \n",
    "# Function to convert  \n",
    "def listToString(s): \n",
    "    \n",
    "    # initialize an empty string\n",
    "    str1 = \"\" \n",
    "    \n",
    "    # traverse in the string  \n",
    "    for ele in df_AA: \n",
    "        str1 += ele  \n",
    "    \n",
    "    # return string  \n",
    "    return str1 \n",
    "        \n",
    "        \n",
    "# Driver code    \n",
    "print(listToString(df_AA))"
   ]
  },
  {
   "cell_type": "code",
   "execution_count": 217,
   "metadata": {},
   "outputs": [],
   "source": [
    "# Assign the new string as str1\n",
    "str1=listToString(df_AA)"
   ]
  },
  {
   "cell_type": "code",
   "execution_count": 149,
   "metadata": {},
   "outputs": [],
   "source": [
    "# split the string with \"Stop\"\n",
    "str2=str1.split(\"-\")"
   ]
  },
  {
   "cell_type": "code",
   "execution_count": 150,
   "metadata": {},
   "outputs": [
    {
     "data": {
      "text/html": [
       "<div>\n",
       "<style scoped>\n",
       "    .dataframe tbody tr th:only-of-type {\n",
       "        vertical-align: middle;\n",
       "    }\n",
       "\n",
       "    .dataframe tbody tr th {\n",
       "        vertical-align: top;\n",
       "    }\n",
       "\n",
       "    .dataframe thead th {\n",
       "        text-align: right;\n",
       "    }\n",
       "</style>\n",
       "<table border=\"1\" class=\"dataframe\">\n",
       "  <thead>\n",
       "    <tr style=\"text-align: right;\">\n",
       "      <th></th>\n",
       "      <th>AA</th>\n",
       "    </tr>\n",
       "  </thead>\n",
       "  <tbody>\n",
       "    <tr>\n",
       "      <th>0</th>\n",
       "      <td>WKSLRPRIANLSTTMMALISLVLVVVPPGEQEGLDASYLPPPLPSF...</td>\n",
       "    </tr>\n",
       "    <tr>\n",
       "      <th>1</th>\n",
       "      <td>GCLKLCLCWLDEDGTLAVEYFSVQIPSLLPFDFLFFFFFFLLQCLGSC</td>\n",
       "    </tr>\n",
       "    <tr>\n",
       "      <th>2</th>\n",
       "      <td>FAENNW</td>\n",
       "    </tr>\n",
       "    <tr>\n",
       "      <th>3</th>\n",
       "      <td>VFKCRIL</td>\n",
       "    </tr>\n",
       "    <tr>\n",
       "      <th>4</th>\n",
       "      <td>HHIVL</td>\n",
       "    </tr>\n",
       "    <tr>\n",
       "      <th>...</th>\n",
       "      <td>...</td>\n",
       "    </tr>\n",
       "    <tr>\n",
       "      <th>777</th>\n",
       "      <td>KVTNHFNVYLLISMCSCNMGIVLCVCMYF</td>\n",
       "    </tr>\n",
       "    <tr>\n",
       "      <th>778</th>\n",
       "      <td>TFIMKIL</td>\n",
       "    </tr>\n",
       "    <tr>\n",
       "      <th>779</th>\n",
       "      <td>GTQK</td>\n",
       "    </tr>\n",
       "    <tr>\n",
       "      <th>780</th>\n",
       "      <td>RR</td>\n",
       "    </tr>\n",
       "    <tr>\n",
       "      <th>781</th>\n",
       "      <td>YHKL</td>\n",
       "    </tr>\n",
       "  </tbody>\n",
       "</table>\n",
       "<p>782 rows × 1 columns</p>\n",
       "</div>"
      ],
      "text/plain": [
       "                                                    AA\n",
       "0    WKSLRPRIANLSTTMMALISLVLVVVPPGEQEGLDASYLPPPLPSF...\n",
       "1     GCLKLCLCWLDEDGTLAVEYFSVQIPSLLPFDFLFFFFFFLLQCLGSC\n",
       "2                                               FAENNW\n",
       "3                                              VFKCRIL\n",
       "4                                                HHIVL\n",
       "..                                                 ...\n",
       "777                      KVTNHFNVYLLISMCSCNMGIVLCVCMYF\n",
       "778                                            TFIMKIL\n",
       "779                                               GTQK\n",
       "780                                                 RR\n",
       "781                                               YHKL\n",
       "\n",
       "[782 rows x 1 columns]"
      ]
     },
     "execution_count": 150,
     "metadata": {},
     "output_type": "execute_result"
    }
   ],
   "source": [
    "# Convert list to column\n",
    "import numpy as np\n",
    "df2 = pd.DataFrame(np.array([str2]).T)\n",
    "df2.columns =['AA']\n",
    "df2"
   ]
  },
  {
   "cell_type": "markdown",
   "metadata": {},
   "source": [
    "**7) Create two new columns in the new dataframe, length of the protein sequence and weight of protein sequence.**"
   ]
  },
  {
   "cell_type": "code",
   "execution_count": 151,
   "metadata": {},
   "outputs": [
    {
     "data": {
      "text/html": [
       "<div>\n",
       "<style scoped>\n",
       "    .dataframe tbody tr th:only-of-type {\n",
       "        vertical-align: middle;\n",
       "    }\n",
       "\n",
       "    .dataframe tbody tr th {\n",
       "        vertical-align: top;\n",
       "    }\n",
       "\n",
       "    .dataframe thead th {\n",
       "        text-align: right;\n",
       "    }\n",
       "</style>\n",
       "<table border=\"1\" class=\"dataframe\">\n",
       "  <thead>\n",
       "    <tr style=\"text-align: right;\">\n",
       "      <th></th>\n",
       "      <th>AA</th>\n",
       "      <th>Protein Length</th>\n",
       "    </tr>\n",
       "  </thead>\n",
       "  <tbody>\n",
       "    <tr>\n",
       "      <th>0</th>\n",
       "      <td>WKSLRPRIANLSTTMMALISLVLVVVPPGEQEGLDASYLPPPLPSF...</td>\n",
       "      <td>53</td>\n",
       "    </tr>\n",
       "    <tr>\n",
       "      <th>1</th>\n",
       "      <td>GCLKLCLCWLDEDGTLAVEYFSVQIPSLLPFDFLFFFFFFLLQCLGSC</td>\n",
       "      <td>48</td>\n",
       "    </tr>\n",
       "    <tr>\n",
       "      <th>2</th>\n",
       "      <td>FAENNW</td>\n",
       "      <td>6</td>\n",
       "    </tr>\n",
       "    <tr>\n",
       "      <th>3</th>\n",
       "      <td>VFKCRIL</td>\n",
       "      <td>7</td>\n",
       "    </tr>\n",
       "    <tr>\n",
       "      <th>4</th>\n",
       "      <td>HHIVL</td>\n",
       "      <td>5</td>\n",
       "    </tr>\n",
       "    <tr>\n",
       "      <th>...</th>\n",
       "      <td>...</td>\n",
       "      <td>...</td>\n",
       "    </tr>\n",
       "    <tr>\n",
       "      <th>777</th>\n",
       "      <td>KVTNHFNVYLLISMCSCNMGIVLCVCMYF</td>\n",
       "      <td>29</td>\n",
       "    </tr>\n",
       "    <tr>\n",
       "      <th>778</th>\n",
       "      <td>TFIMKIL</td>\n",
       "      <td>7</td>\n",
       "    </tr>\n",
       "    <tr>\n",
       "      <th>779</th>\n",
       "      <td>GTQK</td>\n",
       "      <td>4</td>\n",
       "    </tr>\n",
       "    <tr>\n",
       "      <th>780</th>\n",
       "      <td>RR</td>\n",
       "      <td>2</td>\n",
       "    </tr>\n",
       "    <tr>\n",
       "      <th>781</th>\n",
       "      <td>YHKL</td>\n",
       "      <td>4</td>\n",
       "    </tr>\n",
       "  </tbody>\n",
       "</table>\n",
       "<p>782 rows × 2 columns</p>\n",
       "</div>"
      ],
      "text/plain": [
       "                                                    AA  Protein Length\n",
       "0    WKSLRPRIANLSTTMMALISLVLVVVPPGEQEGLDASYLPPPLPSF...              53\n",
       "1     GCLKLCLCWLDEDGTLAVEYFSVQIPSLLPFDFLFFFFFFLLQCLGSC              48\n",
       "2                                               FAENNW               6\n",
       "3                                              VFKCRIL               7\n",
       "4                                                HHIVL               5\n",
       "..                                                 ...             ...\n",
       "777                      KVTNHFNVYLLISMCSCNMGIVLCVCMYF              29\n",
       "778                                            TFIMKIL               7\n",
       "779                                               GTQK               4\n",
       "780                                                 RR               2\n",
       "781                                               YHKL               4\n",
       "\n",
       "[782 rows x 2 columns]"
      ]
     },
     "execution_count": 151,
     "metadata": {},
     "output_type": "execute_result"
    }
   ],
   "source": [
    "# new column for protein length\n",
    "df2['Protein Length'] = df2['AA'].str.len()\n",
    "df2"
   ]
  },
  {
   "cell_type": "code",
   "execution_count": 494,
   "metadata": {},
   "outputs": [],
   "source": [
    "# Protein weight library\n",
    "\n",
    "weights = {'A': 71.04, 'C': 103.01, 'D': 115.03, 'E': 129.04, 'F': 147.07,\n",
    "           'G': 57.02, 'H': 137.06, 'I': 113.08, 'K': 128.09, 'L': 113.08,\n",
    "           'M': 131.04, 'N': 114.04, 'P': 97.05, 'Q': 128.06, 'R': 156.10,\n",
    "           'S': 87.03, 'T': 101.05, 'V': 99.07, 'W': 186.08, 'Y': 163.06, '-': 0 }"
   ]
  },
  {
   "cell_type": "code",
   "execution_count": 481,
   "metadata": {},
   "outputs": [
    {
     "name": "stdout",
     "output_type": "stream",
     "text": [
      "[186.08]\n",
      "[186.08, 128.09]\n",
      "[186.08, 128.09, 87.03]\n",
      "[186.08, 128.09, 87.03, 113.08]\n",
      "[186.08, 128.09, 87.03, 113.08, 156.1]\n",
      "[186.08, 128.09, 87.03, 113.08, 156.1, 97.05]\n",
      "[186.08, 128.09, 87.03, 113.08, 156.1, 97.05, 156.1]\n",
      "[186.08, 128.09, 87.03, 113.08, 156.1, 97.05, 156.1, 113.08]\n",
      "[186.08, 128.09, 87.03, 113.08, 156.1, 97.05, 156.1, 113.08, 71.04]\n",
      "[186.08, 128.09, 87.03, 113.08, 156.1, 97.05, 156.1, 113.08, 71.04, 114.04]\n",
      "[186.08, 128.09, 87.03, 113.08, 156.1, 97.05, 156.1, 113.08, 71.04, 114.04, 113.08]\n",
      "[186.08, 128.09, 87.03, 113.08, 156.1, 97.05, 156.1, 113.08, 71.04, 114.04, 113.08, 87.03]\n",
      "[186.08, 128.09, 87.03, 113.08, 156.1, 97.05, 156.1, 113.08, 71.04, 114.04, 113.08, 87.03, 101.05]\n",
      "[186.08, 128.09, 87.03, 113.08, 156.1, 97.05, 156.1, 113.08, 71.04, 114.04, 113.08, 87.03, 101.05, 101.05]\n",
      "[186.08, 128.09, 87.03, 113.08, 156.1, 97.05, 156.1, 113.08, 71.04, 114.04, 113.08, 87.03, 101.05, 101.05, 131.04]\n",
      "[186.08, 128.09, 87.03, 113.08, 156.1, 97.05, 156.1, 113.08, 71.04, 114.04, 113.08, 87.03, 101.05, 101.05, 131.04, 131.04]\n",
      "[186.08, 128.09, 87.03, 113.08, 156.1, 97.05, 156.1, 113.08, 71.04, 114.04, 113.08, 87.03, 101.05, 101.05, 131.04, 131.04, 71.04]\n",
      "[186.08, 128.09, 87.03, 113.08, 156.1, 97.05, 156.1, 113.08, 71.04, 114.04, 113.08, 87.03, 101.05, 101.05, 131.04, 131.04, 71.04, 113.08]\n",
      "[186.08, 128.09, 87.03, 113.08, 156.1, 97.05, 156.1, 113.08, 71.04, 114.04, 113.08, 87.03, 101.05, 101.05, 131.04, 131.04, 71.04, 113.08, 113.08]\n",
      "[186.08, 128.09, 87.03, 113.08, 156.1, 97.05, 156.1, 113.08, 71.04, 114.04, 113.08, 87.03, 101.05, 101.05, 131.04, 131.04, 71.04, 113.08, 113.08, 87.03]\n",
      "[186.08, 128.09, 87.03, 113.08, 156.1, 97.05, 156.1, 113.08, 71.04, 114.04, 113.08, 87.03, 101.05, 101.05, 131.04, 131.04, 71.04, 113.08, 113.08, 87.03, 113.08]\n",
      "[186.08, 128.09, 87.03, 113.08, 156.1, 97.05, 156.1, 113.08, 71.04, 114.04, 113.08, 87.03, 101.05, 101.05, 131.04, 131.04, 71.04, 113.08, 113.08, 87.03, 113.08, 99.07]\n",
      "[186.08, 128.09, 87.03, 113.08, 156.1, 97.05, 156.1, 113.08, 71.04, 114.04, 113.08, 87.03, 101.05, 101.05, 131.04, 131.04, 71.04, 113.08, 113.08, 87.03, 113.08, 99.07, 113.08]\n",
      "[186.08, 128.09, 87.03, 113.08, 156.1, 97.05, 156.1, 113.08, 71.04, 114.04, 113.08, 87.03, 101.05, 101.05, 131.04, 131.04, 71.04, 113.08, 113.08, 87.03, 113.08, 99.07, 113.08, 99.07]\n",
      "[186.08, 128.09, 87.03, 113.08, 156.1, 97.05, 156.1, 113.08, 71.04, 114.04, 113.08, 87.03, 101.05, 101.05, 131.04, 131.04, 71.04, 113.08, 113.08, 87.03, 113.08, 99.07, 113.08, 99.07, 99.07]\n",
      "[186.08, 128.09, 87.03, 113.08, 156.1, 97.05, 156.1, 113.08, 71.04, 114.04, 113.08, 87.03, 101.05, 101.05, 131.04, 131.04, 71.04, 113.08, 113.08, 87.03, 113.08, 99.07, 113.08, 99.07, 99.07, 99.07]\n",
      "[186.08, 128.09, 87.03, 113.08, 156.1, 97.05, 156.1, 113.08, 71.04, 114.04, 113.08, 87.03, 101.05, 101.05, 131.04, 131.04, 71.04, 113.08, 113.08, 87.03, 113.08, 99.07, 113.08, 99.07, 99.07, 99.07, 97.05]\n",
      "[186.08, 128.09, 87.03, 113.08, 156.1, 97.05, 156.1, 113.08, 71.04, 114.04, 113.08, 87.03, 101.05, 101.05, 131.04, 131.04, 71.04, 113.08, 113.08, 87.03, 113.08, 99.07, 113.08, 99.07, 99.07, 99.07, 97.05, 97.05]\n",
      "[186.08, 128.09, 87.03, 113.08, 156.1, 97.05, 156.1, 113.08, 71.04, 114.04, 113.08, 87.03, 101.05, 101.05, 131.04, 131.04, 71.04, 113.08, 113.08, 87.03, 113.08, 99.07, 113.08, 99.07, 99.07, 99.07, 97.05, 97.05, 57.02]\n",
      "[186.08, 128.09, 87.03, 113.08, 156.1, 97.05, 156.1, 113.08, 71.04, 114.04, 113.08, 87.03, 101.05, 101.05, 131.04, 131.04, 71.04, 113.08, 113.08, 87.03, 113.08, 99.07, 113.08, 99.07, 99.07, 99.07, 97.05, 97.05, 57.02, 129.04]\n",
      "[186.08, 128.09, 87.03, 113.08, 156.1, 97.05, 156.1, 113.08, 71.04, 114.04, 113.08, 87.03, 101.05, 101.05, 131.04, 131.04, 71.04, 113.08, 113.08, 87.03, 113.08, 99.07, 113.08, 99.07, 99.07, 99.07, 97.05, 97.05, 57.02, 129.04, 128.06]\n",
      "[186.08, 128.09, 87.03, 113.08, 156.1, 97.05, 156.1, 113.08, 71.04, 114.04, 113.08, 87.03, 101.05, 101.05, 131.04, 131.04, 71.04, 113.08, 113.08, 87.03, 113.08, 99.07, 113.08, 99.07, 99.07, 99.07, 97.05, 97.05, 57.02, 129.04, 128.06, 129.04]\n",
      "[186.08, 128.09, 87.03, 113.08, 156.1, 97.05, 156.1, 113.08, 71.04, 114.04, 113.08, 87.03, 101.05, 101.05, 131.04, 131.04, 71.04, 113.08, 113.08, 87.03, 113.08, 99.07, 113.08, 99.07, 99.07, 99.07, 97.05, 97.05, 57.02, 129.04, 128.06, 129.04, 57.02]\n",
      "[186.08, 128.09, 87.03, 113.08, 156.1, 97.05, 156.1, 113.08, 71.04, 114.04, 113.08, 87.03, 101.05, 101.05, 131.04, 131.04, 71.04, 113.08, 113.08, 87.03, 113.08, 99.07, 113.08, 99.07, 99.07, 99.07, 97.05, 97.05, 57.02, 129.04, 128.06, 129.04, 57.02, 113.08]\n",
      "[186.08, 128.09, 87.03, 113.08, 156.1, 97.05, 156.1, 113.08, 71.04, 114.04, 113.08, 87.03, 101.05, 101.05, 131.04, 131.04, 71.04, 113.08, 113.08, 87.03, 113.08, 99.07, 113.08, 99.07, 99.07, 99.07, 97.05, 97.05, 57.02, 129.04, 128.06, 129.04, 57.02, 113.08, 115.03]\n",
      "[186.08, 128.09, 87.03, 113.08, 156.1, 97.05, 156.1, 113.08, 71.04, 114.04, 113.08, 87.03, 101.05, 101.05, 131.04, 131.04, 71.04, 113.08, 113.08, 87.03, 113.08, 99.07, 113.08, 99.07, 99.07, 99.07, 97.05, 97.05, 57.02, 129.04, 128.06, 129.04, 57.02, 113.08, 115.03, 71.04]\n",
      "[186.08, 128.09, 87.03, 113.08, 156.1, 97.05, 156.1, 113.08, 71.04, 114.04, 113.08, 87.03, 101.05, 101.05, 131.04, 131.04, 71.04, 113.08, 113.08, 87.03, 113.08, 99.07, 113.08, 99.07, 99.07, 99.07, 97.05, 97.05, 57.02, 129.04, 128.06, 129.04, 57.02, 113.08, 115.03, 71.04, 87.03]\n",
      "[186.08, 128.09, 87.03, 113.08, 156.1, 97.05, 156.1, 113.08, 71.04, 114.04, 113.08, 87.03, 101.05, 101.05, 131.04, 131.04, 71.04, 113.08, 113.08, 87.03, 113.08, 99.07, 113.08, 99.07, 99.07, 99.07, 97.05, 97.05, 57.02, 129.04, 128.06, 129.04, 57.02, 113.08, 115.03, 71.04, 87.03, 163.06]\n",
      "[186.08, 128.09, 87.03, 113.08, 156.1, 97.05, 156.1, 113.08, 71.04, 114.04, 113.08, 87.03, 101.05, 101.05, 131.04, 131.04, 71.04, 113.08, 113.08, 87.03, 113.08, 99.07, 113.08, 99.07, 99.07, 99.07, 97.05, 97.05, 57.02, 129.04, 128.06, 129.04, 57.02, 113.08, 115.03, 71.04, 87.03, 163.06, 113.08]\n",
      "[186.08, 128.09, 87.03, 113.08, 156.1, 97.05, 156.1, 113.08, 71.04, 114.04, 113.08, 87.03, 101.05, 101.05, 131.04, 131.04, 71.04, 113.08, 113.08, 87.03, 113.08, 99.07, 113.08, 99.07, 99.07, 99.07, 97.05, 97.05, 57.02, 129.04, 128.06, 129.04, 57.02, 113.08, 115.03, 71.04, 87.03, 163.06, 113.08, 97.05]\n",
      "[186.08, 128.09, 87.03, 113.08, 156.1, 97.05, 156.1, 113.08, 71.04, 114.04, 113.08, 87.03, 101.05, 101.05, 131.04, 131.04, 71.04, 113.08, 113.08, 87.03, 113.08, 99.07, 113.08, 99.07, 99.07, 99.07, 97.05, 97.05, 57.02, 129.04, 128.06, 129.04, 57.02, 113.08, 115.03, 71.04, 87.03, 163.06, 113.08, 97.05, 97.05]\n",
      "[186.08, 128.09, 87.03, 113.08, 156.1, 97.05, 156.1, 113.08, 71.04, 114.04, 113.08, 87.03, 101.05, 101.05, 131.04, 131.04, 71.04, 113.08, 113.08, 87.03, 113.08, 99.07, 113.08, 99.07, 99.07, 99.07, 97.05, 97.05, 57.02, 129.04, 128.06, 129.04, 57.02, 113.08, 115.03, 71.04, 87.03, 163.06, 113.08, 97.05, 97.05, 97.05]\n",
      "[186.08, 128.09, 87.03, 113.08, 156.1, 97.05, 156.1, 113.08, 71.04, 114.04, 113.08, 87.03, 101.05, 101.05, 131.04, 131.04, 71.04, 113.08, 113.08, 87.03, 113.08, 99.07, 113.08, 99.07, 99.07, 99.07, 97.05, 97.05, 57.02, 129.04, 128.06, 129.04, 57.02, 113.08, 115.03, 71.04, 87.03, 163.06, 113.08, 97.05, 97.05, 97.05, 113.08]\n",
      "[186.08, 128.09, 87.03, 113.08, 156.1, 97.05, 156.1, 113.08, 71.04, 114.04, 113.08, 87.03, 101.05, 101.05, 131.04, 131.04, 71.04, 113.08, 113.08, 87.03, 113.08, 99.07, 113.08, 99.07, 99.07, 99.07, 97.05, 97.05, 57.02, 129.04, 128.06, 129.04, 57.02, 113.08, 115.03, 71.04, 87.03, 163.06, 113.08, 97.05, 97.05, 97.05, 113.08, 97.05]\n",
      "[186.08, 128.09, 87.03, 113.08, 156.1, 97.05, 156.1, 113.08, 71.04, 114.04, 113.08, 87.03, 101.05, 101.05, 131.04, 131.04, 71.04, 113.08, 113.08, 87.03, 113.08, 99.07, 113.08, 99.07, 99.07, 99.07, 97.05, 97.05, 57.02, 129.04, 128.06, 129.04, 57.02, 113.08, 115.03, 71.04, 87.03, 163.06, 113.08, 97.05, 97.05, 97.05, 113.08, 97.05, 87.03]\n",
      "[186.08, 128.09, 87.03, 113.08, 156.1, 97.05, 156.1, 113.08, 71.04, 114.04, 113.08, 87.03, 101.05, 101.05, 131.04, 131.04, 71.04, 113.08, 113.08, 87.03, 113.08, 99.07, 113.08, 99.07, 99.07, 99.07, 97.05, 97.05, 57.02, 129.04, 128.06, 129.04, 57.02, 113.08, 115.03, 71.04, 87.03, 163.06, 113.08, 97.05, 97.05, 97.05, 113.08, 97.05, 87.03, 147.07]\n",
      "[186.08, 128.09, 87.03, 113.08, 156.1, 97.05, 156.1, 113.08, 71.04, 114.04, 113.08, 87.03, 101.05, 101.05, 131.04, 131.04, 71.04, 113.08, 113.08, 87.03, 113.08, 99.07, 113.08, 99.07, 99.07, 99.07, 97.05, 97.05, 57.02, 129.04, 128.06, 129.04, 57.02, 113.08, 115.03, 71.04, 87.03, 163.06, 113.08, 97.05, 97.05, 97.05, 113.08, 97.05, 87.03, 147.07, 57.02]\n",
      "[186.08, 128.09, 87.03, 113.08, 156.1, 97.05, 156.1, 113.08, 71.04, 114.04, 113.08, 87.03, 101.05, 101.05, 131.04, 131.04, 71.04, 113.08, 113.08, 87.03, 113.08, 99.07, 113.08, 99.07, 99.07, 99.07, 97.05, 97.05, 57.02, 129.04, 128.06, 129.04, 57.02, 113.08, 115.03, 71.04, 87.03, 163.06, 113.08, 97.05, 97.05, 97.05, 113.08, 97.05, 87.03, 147.07, 57.02, 113.08]\n",
      "[186.08, 128.09, 87.03, 113.08, 156.1, 97.05, 156.1, 113.08, 71.04, 114.04, 113.08, 87.03, 101.05, 101.05, 131.04, 131.04, 71.04, 113.08, 113.08, 87.03, 113.08, 99.07, 113.08, 99.07, 99.07, 99.07, 97.05, 97.05, 57.02, 129.04, 128.06, 129.04, 57.02, 113.08, 115.03, 71.04, 87.03, 163.06, 113.08, 97.05, 97.05, 97.05, 113.08, 97.05, 87.03, 147.07, 57.02, 113.08, 71.04]\n",
      "[186.08, 128.09, 87.03, 113.08, 156.1, 97.05, 156.1, 113.08, 71.04, 114.04, 113.08, 87.03, 101.05, 101.05, 131.04, 131.04, 71.04, 113.08, 113.08, 87.03, 113.08, 99.07, 113.08, 99.07, 99.07, 99.07, 97.05, 97.05, 57.02, 129.04, 128.06, 129.04, 57.02, 113.08, 115.03, 71.04, 87.03, 163.06, 113.08, 97.05, 97.05, 97.05, 113.08, 97.05, 87.03, 147.07, 57.02, 113.08, 71.04, 113.08]\n",
      "[186.08, 128.09, 87.03, 113.08, 156.1, 97.05, 156.1, 113.08, 71.04, 114.04, 113.08, 87.03, 101.05, 101.05, 131.04, 131.04, 71.04, 113.08, 113.08, 87.03, 113.08, 99.07, 113.08, 99.07, 99.07, 99.07, 97.05, 97.05, 57.02, 129.04, 128.06, 129.04, 57.02, 113.08, 115.03, 71.04, 87.03, 163.06, 113.08, 97.05, 97.05, 97.05, 113.08, 97.05, 87.03, 147.07, 57.02, 113.08, 71.04, 113.08, 87.03]\n",
      "[186.08, 128.09, 87.03, 113.08, 156.1, 97.05, 156.1, 113.08, 71.04, 114.04, 113.08, 87.03, 101.05, 101.05, 131.04, 131.04, 71.04, 113.08, 113.08, 87.03, 113.08, 99.07, 113.08, 99.07, 99.07, 99.07, 97.05, 97.05, 57.02, 129.04, 128.06, 129.04, 57.02, 113.08, 115.03, 71.04, 87.03, 163.06, 113.08, 97.05, 97.05, 97.05, 113.08, 97.05, 87.03, 147.07, 57.02, 113.08, 71.04, 113.08, 87.03, 129.04]\n",
      "[186.08, 128.09, 87.03, 113.08, 156.1, 97.05, 156.1, 113.08, 71.04, 114.04, 113.08, 87.03, 101.05, 101.05, 131.04, 131.04, 71.04, 113.08, 113.08, 87.03, 113.08, 99.07, 113.08, 99.07, 99.07, 99.07, 97.05, 97.05, 57.02, 129.04, 128.06, 129.04, 57.02, 113.08, 115.03, 71.04, 87.03, 163.06, 113.08, 97.05, 97.05, 97.05, 113.08, 97.05, 87.03, 147.07, 57.02, 113.08, 71.04, 113.08, 87.03, 129.04, 113.08]\n"
     ]
    }
   ],
   "source": [
    "# Convert one row of AA to weight value\n",
    "\n",
    "df2['AA'][0] # select row 1\n",
    "\n",
    "AA_lst1 = [] # create an empty list\n",
    "\n",
    "# for loop\n",
    "for letter in df2['AA'][0]:\n",
    "    AA_lst1.append(weights[letter])\n",
    "    print(AA_lst1)\n"
   ]
  },
  {
   "cell_type": "code",
   "execution_count": 476,
   "metadata": {},
   "outputs": [
    {
     "data": {
      "text/plain": [
       "5668.000000000001"
      ]
     },
     "execution_count": 476,
     "metadata": {},
     "output_type": "execute_result"
    }
   ],
   "source": [
    "# calculate protein weight: sum of AA weight\n",
    "sum(AA_lst1)"
   ]
  },
  {
   "cell_type": "code",
   "execution_count": 507,
   "metadata": {},
   "outputs": [],
   "source": [
    "# define a for loop function\n",
    "def f(z):\n",
    "    AA_sum = []\n",
    "    for letter in z:\n",
    "        AA_sum.append(weights[letter])\n",
    "    return sum(AA_sum)"
   ]
  },
  {
   "cell_type": "code",
   "execution_count": 515,
   "metadata": {
    "scrolled": true
   },
   "outputs": [
    {
     "data": {
      "text/html": [
       "<div>\n",
       "<style scoped>\n",
       "    .dataframe tbody tr th:only-of-type {\n",
       "        vertical-align: middle;\n",
       "    }\n",
       "\n",
       "    .dataframe tbody tr th {\n",
       "        vertical-align: top;\n",
       "    }\n",
       "\n",
       "    .dataframe thead th {\n",
       "        text-align: right;\n",
       "    }\n",
       "</style>\n",
       "<table border=\"1\" class=\"dataframe\">\n",
       "  <thead>\n",
       "    <tr style=\"text-align: right;\">\n",
       "      <th></th>\n",
       "      <th>AA</th>\n",
       "      <th>Protein Length</th>\n",
       "      <th>Protein Weight</th>\n",
       "    </tr>\n",
       "  </thead>\n",
       "  <tbody>\n",
       "    <tr>\n",
       "      <th>0</th>\n",
       "      <td>WKSLRPRIANLSTTMMALISLVLVVVPPGEQEGLDASYLPPPLPSF...</td>\n",
       "      <td>53</td>\n",
       "      <td>5668.00</td>\n",
       "    </tr>\n",
       "    <tr>\n",
       "      <th>1</th>\n",
       "      <td>GCLKLCLCWLDEDGTLAVEYFSVQIPSLLPFDFLFFFFFFLLQCLGSC</td>\n",
       "      <td>48</td>\n",
       "      <td>5528.64</td>\n",
       "    </tr>\n",
       "    <tr>\n",
       "      <th>2</th>\n",
       "      <td>FAENNW</td>\n",
       "      <td>6</td>\n",
       "      <td>761.31</td>\n",
       "    </tr>\n",
       "    <tr>\n",
       "      <th>3</th>\n",
       "      <td>VFKCRIL</td>\n",
       "      <td>7</td>\n",
       "      <td>859.50</td>\n",
       "    </tr>\n",
       "    <tr>\n",
       "      <th>4</th>\n",
       "      <td>HHIVL</td>\n",
       "      <td>5</td>\n",
       "      <td>599.35</td>\n",
       "    </tr>\n",
       "    <tr>\n",
       "      <th>...</th>\n",
       "      <td>...</td>\n",
       "      <td>...</td>\n",
       "      <td>...</td>\n",
       "    </tr>\n",
       "    <tr>\n",
       "      <th>777</th>\n",
       "      <td>KVTNHFNVYLLISMCSCNMGIVLCVCMYF</td>\n",
       "      <td>29</td>\n",
       "      <td>3326.50</td>\n",
       "    </tr>\n",
       "    <tr>\n",
       "      <th>778</th>\n",
       "      <td>TFIMKIL</td>\n",
       "      <td>7</td>\n",
       "      <td>846.49</td>\n",
       "    </tr>\n",
       "    <tr>\n",
       "      <th>779</th>\n",
       "      <td>GTQK</td>\n",
       "      <td>4</td>\n",
       "      <td>414.22</td>\n",
       "    </tr>\n",
       "    <tr>\n",
       "      <th>780</th>\n",
       "      <td>RR</td>\n",
       "      <td>2</td>\n",
       "      <td>312.20</td>\n",
       "    </tr>\n",
       "    <tr>\n",
       "      <th>781</th>\n",
       "      <td>YHKL</td>\n",
       "      <td>4</td>\n",
       "      <td>541.29</td>\n",
       "    </tr>\n",
       "  </tbody>\n",
       "</table>\n",
       "<p>782 rows × 3 columns</p>\n",
       "</div>"
      ],
      "text/plain": [
       "                                                    AA  Protein Length  \\\n",
       "0    WKSLRPRIANLSTTMMALISLVLVVVPPGEQEGLDASYLPPPLPSF...              53   \n",
       "1     GCLKLCLCWLDEDGTLAVEYFSVQIPSLLPFDFLFFFFFFLLQCLGSC              48   \n",
       "2                                               FAENNW               6   \n",
       "3                                              VFKCRIL               7   \n",
       "4                                                HHIVL               5   \n",
       "..                                                 ...             ...   \n",
       "777                      KVTNHFNVYLLISMCSCNMGIVLCVCMYF              29   \n",
       "778                                            TFIMKIL               7   \n",
       "779                                               GTQK               4   \n",
       "780                                                 RR               2   \n",
       "781                                               YHKL               4   \n",
       "\n",
       "     Protein Weight  \n",
       "0           5668.00  \n",
       "1           5528.64  \n",
       "2            761.31  \n",
       "3            859.50  \n",
       "4            599.35  \n",
       "..              ...  \n",
       "777         3326.50  \n",
       "778          846.49  \n",
       "779          414.22  \n",
       "780          312.20  \n",
       "781          541.29  \n",
       "\n",
       "[782 rows x 3 columns]"
      ]
     },
     "execution_count": 515,
     "metadata": {},
     "output_type": "execute_result"
    }
   ],
   "source": [
    "# use apply() to apply the for loop to the entire dataset\n",
    "df2['Protein Weight'] = df2['AA'].apply(f)\n",
    "df2"
   ]
  },
  {
   "cell_type": "markdown",
   "metadata": {},
   "source": [
    "**8) Create a descriptive summary statistics table for length and weight.**"
   ]
  },
  {
   "cell_type": "code",
   "execution_count": 517,
   "metadata": {},
   "outputs": [
    {
     "data": {
      "text/plain": [
       "count    782.000000\n",
       "mean      18.479540\n",
       "std       21.440122\n",
       "min        0.000000\n",
       "25%        4.000000\n",
       "50%       12.000000\n",
       "75%       24.000000\n",
       "max      141.000000\n",
       "Name: Protein Length, dtype: float64"
      ]
     },
     "execution_count": 517,
     "metadata": {},
     "output_type": "execute_result"
    }
   ],
   "source": [
    "df2[\"Protein Length\"].describe(include='all') "
   ]
  },
  {
   "cell_type": "code",
   "execution_count": 519,
   "metadata": {},
   "outputs": [
    {
     "data": {
      "text/plain": [
       "count      782.000000\n",
       "mean      2075.167455\n",
       "std       2374.881799\n",
       "min          0.000000\n",
       "25%        453.197500\n",
       "50%       1280.155000\n",
       "75%       2700.617500\n",
       "max      14810.470000\n",
       "Name: Protein Weight, dtype: float64"
      ]
     },
     "execution_count": 519,
     "metadata": {},
     "output_type": "execute_result"
    }
   ],
   "source": [
    "df2[\"Protein Weight\"].describe(include='all') "
   ]
  },
  {
   "cell_type": "markdown",
   "metadata": {},
   "source": [
    "**9) Is there a relationship between the length and weight of protein sequences? Create a scatter plot comparing length and weight and include the regression line.**"
   ]
  },
  {
   "cell_type": "markdown",
   "metadata": {},
   "source": [
    "There should be a relationship between length and weight. As length of the protein increases, the weight of the protein also increases."
   ]
  },
  {
   "cell_type": "code",
   "execution_count": 520,
   "metadata": {},
   "outputs": [
    {
     "data": {
      "text/plain": [
       "<AxesSubplot:xlabel='Protein Length', ylabel='Protein Weight'>"
      ]
     },
     "execution_count": 520,
     "metadata": {},
     "output_type": "execute_result"
    },
    {
     "data": {
      "image/png": "[encoded data removed]",
      "text/plain": [
       "<Figure size 432x288 with 1 Axes>"
      ]
     },
     "metadata": {
      "needs_background": "light"
     },
     "output_type": "display_data"
    }
   ],
   "source": [
    "import seaborn as sb\n",
    "\n",
    "sb.regplot(x = \"Protein Length\",\n",
    "            y = \"Protein Weight\", \n",
    "            ci = None,\n",
    "            data = df2)"
   ]
  },
  {
   "cell_type": "markdown",
   "metadata": {},
   "source": [
    "**10) What is the Pearson correlation coefficient?**"
   ]
  },
  {
   "cell_type": "markdown",
   "metadata": {},
   "source": [
    "Since the Pearsons correlation is 0.998, which is close to 1. This means the protein length and weight have a positive correlation and are highly correlated."
   ]
  },
  {
   "cell_type": "code",
   "execution_count": 521,
   "metadata": {},
   "outputs": [
    {
     "name": "stdout",
     "output_type": "stream",
     "text": [
      "Pearsons correlation: 0.998\n"
     ]
    }
   ],
   "source": [
    "import pandas as pd\n",
    "from scipy.stats import pearsonr\n",
    "\n",
    "# Convert dataframe into series\n",
    "lst1 = df2['Protein Length']\n",
    "lst2 = df2['Protein Weight']\n",
    "  \n",
    "# Apply the pearsonr()\n",
    "corr, _ = pearsonr(lst1, lst2)\n",
    "print('Pearsons correlation: %.3f' % corr)"
   ]
  },
  {
   "cell_type": "markdown",
   "metadata": {
    "id": "QMlebWWjRDfu"
   },
   "source": [
    "# Pandas Bioinformatics Practice\n",
    "\n",
    "### Complete the following tasks. As always, there are multiple ways to solve these steps.\n",
    "\n",
    "1) Load `codon.csv` and clean it by removing unnecessary column(s) and changing the column header name to `DNA`.  \n",
    "2) Create three new columns: `RNA`, `AA`, and `weight` filled with appropriate data.  \n",
    "3) Create a barplot of the 3 highest frequency amino acids.  \n",
    "4) Create a boxplot of the codon weights.  \n",
    "5) Create the descriptive summary statistics table for `weight`\n",
    "\n",
    "### Harder Challenge (Google a lot, don't have to finish today)\n",
    "\n",
    "6) Use the stop codon as a separator and create a new dataframe where each row is a new protein sequence. For example, the long string `ABCABCStopDEFSStop` is two protein sequences, `ABCABC` and `DEFS`.  \n",
    "7) Create two new columns in the new dataframe, `length` of the protein sequence and `weight` of protein sequence.   \n",
    "8) Create a descriptive summary statistics table for `length` and `weight`.  \n",
    "9) Is there a relationship between the length and weight of protein sequences? Create a scatter plot comparing `length` and `weight` and include the regression line.  \n",
    "10) What is the Pearson correlation coefficient?\n"
   ]
  }
 ],
 "metadata": {
  "colab": {
   "collapsed_sections": [],
   "name": "PhoebeC_ NSBB-DA_Lecture2.5.DNAtoRNA.Questions.ipynb",
   "provenance": []
  },
  "kernelspec": {
   "display_name": "Python 3",
   "language": "python",
   "name": "python3"
  },
  "language_info": {
   "codemirror_mode": {
    "name": "ipython",
    "version": 3
   },
   "file_extension": ".py",
   "mimetype": "text/x-python",
   "name": "python",
   "nbconvert_exporter": "python",
   "pygments_lexer": "ipython3",
   "version": "3.8.5"
  }
 },
 "nbformat": 4,
 "nbformat_minor": 1
}
